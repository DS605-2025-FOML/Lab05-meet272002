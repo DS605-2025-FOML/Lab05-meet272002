{
 "cells": [
  {
   "cell_type": "code",
   "execution_count": 46,
   "id": "44e183fe",
   "metadata": {},
   "outputs": [
    {
     "name": "stdout",
     "output_type": "stream",
     "text": [
      "Libray imported\n"
     ]
    }
   ],
   "source": [
    "import pandas as pd\n",
    "import numpy as np\n",
    "import seaborn as sns\n",
    "import matplotlib.pyplot as plt\n",
    "from sklearn.model_selection import train_test_split, GridSearchCV\n",
    "from sklearn.ensemble import RandomForestClassifier,GradientBoostingClassifier\n",
    "from sklearn.impute import SimpleImputer\n",
    "from sklearn.linear_model import LogisticRegression\n",
    "from sklearn.compose import ColumnTransformer\n",
    "from sklearn.pipeline import Pipeline\n",
    "from sklearn.metrics import accuracy_score,classification_report,f1_score,precision_score,recall_score,confusion_matrix,roc_auc_score,ConfusionMatrixDisplay\n",
    "from sklearn.preprocessing import StandardScaler,LabelEncoder,OneHotEncoder\n",
    "from sklearn.base import BaseEstimator,TransformerMixin\n",
    "import warnings\n",
    "warnings.filterwarnings('ignore')\n",
    "\n",
    "print(\"Libray imported\")"
   ]
  },
  {
   "cell_type": "markdown",
   "id": "23159aaa",
   "metadata": {},
   "source": [
    "# Task 1: Exploratory Data Analysis (EDA) and Initial Cleaning "
   ]
  },
  {
   "cell_type": "markdown",
   "id": "d893902b",
   "metadata": {},
   "source": [
    "## 1. Load and Inspect: Load the telecom_churn.csv dataset."
   ]
  },
  {
   "cell_type": "code",
   "execution_count": 3,
   "id": "1a555b02",
   "metadata": {},
   "outputs": [],
   "source": [
    "df = pd.read_csv('WA_Fn-UseC_-Telco-Customer-Churn.csv')"
   ]
  },
  {
   "cell_type": "code",
   "execution_count": 4,
   "id": "99ddf859",
   "metadata": {},
   "outputs": [
    {
     "data": {
      "text/plain": [
       "Index(['customerID', 'gender', 'SeniorCitizen', 'Partner', 'Dependents',\n",
       "       'tenure', 'PhoneService', 'MultipleLines', 'InternetService',\n",
       "       'OnlineSecurity', 'OnlineBackup', 'DeviceProtection', 'TechSupport',\n",
       "       'StreamingTV', 'StreamingMovies', 'Contract', 'PaperlessBilling',\n",
       "       'PaymentMethod', 'MonthlyCharges', 'TotalCharges', 'Churn'],\n",
       "      dtype='object')"
      ]
     },
     "execution_count": 4,
     "metadata": {},
     "output_type": "execute_result"
    }
   ],
   "source": [
    "df.columns"
   ]
  },
  {
   "cell_type": "code",
   "execution_count": 5,
   "id": "90293115",
   "metadata": {},
   "outputs": [
    {
     "name": "stdout",
     "output_type": "stream",
     "text": [
      "No count: 5174, Yes count: 1869\n"
     ]
    }
   ],
   "source": [
    "# Give class is imbalance.\n",
    "No_Churn = df[df['Churn'] == 'No']['Churn'].count()\n",
    "Yes_Churn = df[df['Churn'] == 'Yes']['Churn'].count()\n",
    "print(f'No count: {No_Churn}, Yes count: {Yes_Churn}')"
   ]
  },
  {
   "cell_type": "code",
   "execution_count": 6,
   "id": "b922143c",
   "metadata": {},
   "outputs": [
    {
     "name": "stdout",
     "output_type": "stream",
     "text": [
      "<class 'pandas.core.frame.DataFrame'>\n",
      "RangeIndex: 7043 entries, 0 to 7042\n",
      "Data columns (total 21 columns):\n",
      " #   Column            Non-Null Count  Dtype  \n",
      "---  ------            --------------  -----  \n",
      " 0   customerID        7043 non-null   object \n",
      " 1   gender            7043 non-null   object \n",
      " 2   SeniorCitizen     7043 non-null   int64  \n",
      " 3   Partner           7043 non-null   object \n",
      " 4   Dependents        7043 non-null   object \n",
      " 5   tenure            7043 non-null   int64  \n",
      " 6   PhoneService      7043 non-null   object \n",
      " 7   MultipleLines     7043 non-null   object \n",
      " 8   InternetService   7043 non-null   object \n",
      " 9   OnlineSecurity    7043 non-null   object \n",
      " 10  OnlineBackup      7043 non-null   object \n",
      " 11  DeviceProtection  7043 non-null   object \n",
      " 12  TechSupport       7043 non-null   object \n",
      " 13  StreamingTV       7043 non-null   object \n",
      " 14  StreamingMovies   7043 non-null   object \n",
      " 15  Contract          7043 non-null   object \n",
      " 16  PaperlessBilling  7043 non-null   object \n",
      " 17  PaymentMethod     7043 non-null   object \n",
      " 18  MonthlyCharges    7043 non-null   float64\n",
      " 19  TotalCharges      7043 non-null   object \n",
      " 20  Churn             7043 non-null   object \n",
      "dtypes: float64(1), int64(2), object(18)\n",
      "memory usage: 1.1+ MB\n"
     ]
    }
   ],
   "source": [
    "df.info()"
   ]
  },
  {
   "cell_type": "markdown",
   "id": "bf5e73e7",
   "metadata": {},
   "source": [
    "### 2. Initial Cleaning: \n",
    "### ○ The TotalCharges column is loaded as an object type due \n",
    "### to some non-numeric entries and has missing values. \n",
    "### Investigate and convert it to a numeric type, deciding on a \n",
    "### strategy to handle any errors that arise during conversion. \n",
    "### ○ Identify all columns with missing values and analyze the \n",
    "### extent of the missing data."
   ]
  },
  {
   "cell_type": "code",
   "execution_count": 7,
   "id": "91a8462f",
   "metadata": {},
   "outputs": [],
   "source": [
    "df['TotalCharges'] = pd.to_numeric(df['TotalCharges'],errors='coerce')"
   ]
  },
  {
   "cell_type": "code",
   "execution_count": 8,
   "id": "41f3fb89",
   "metadata": {},
   "outputs": [
    {
     "data": {
      "text/plain": [
       "customerID           0\n",
       "gender               0\n",
       "SeniorCitizen        0\n",
       "Partner              0\n",
       "Dependents           0\n",
       "tenure               0\n",
       "PhoneService         0\n",
       "MultipleLines        0\n",
       "InternetService      0\n",
       "OnlineSecurity       0\n",
       "OnlineBackup         0\n",
       "DeviceProtection     0\n",
       "TechSupport          0\n",
       "StreamingTV          0\n",
       "StreamingMovies      0\n",
       "Contract             0\n",
       "PaperlessBilling     0\n",
       "PaymentMethod        0\n",
       "MonthlyCharges       0\n",
       "TotalCharges        11\n",
       "Churn                0\n",
       "dtype: int64"
      ]
     },
     "execution_count": 8,
     "metadata": {},
     "output_type": "execute_result"
    }
   ],
   "source": [
    "df.isnull().sum()"
   ]
  },
  {
   "cell_type": "code",
   "execution_count": 9,
   "id": "eada42f4",
   "metadata": {},
   "outputs": [],
   "source": [
    "categorical_cols = df.select_dtypes(include=['object']).columns.drop('Churn','customerID',)\n",
    "numerical_cols = df.select_dtypes(include=['int64','float64']).columns\n",
    "service = ['PhoneService','MultipleLines','InternetService','OnlineSecurity','OnlineBackup','DeviceProtection','TechSupport','StreamingTV','StreamingMovies']"
   ]
  },
  {
   "cell_type": "code",
   "execution_count": 10,
   "id": "4f16b52d",
   "metadata": {},
   "outputs": [
    {
     "name": "stdout",
     "output_type": "stream",
     "text": [
      "16\n"
     ]
    }
   ],
   "source": [
    "print(len(categorical_cols))"
   ]
  },
  {
   "cell_type": "code",
   "execution_count": 11,
   "id": "893e2878",
   "metadata": {},
   "outputs": [
    {
     "data": {
      "text/plain": [
       "Index(['customerID', 'gender', 'Partner', 'Dependents', 'PhoneService',\n",
       "       'MultipleLines', 'InternetService', 'OnlineSecurity', 'OnlineBackup',\n",
       "       'DeviceProtection', 'TechSupport', 'StreamingTV', 'StreamingMovies',\n",
       "       'Contract', 'PaperlessBilling', 'PaymentMethod'],\n",
       "      dtype='object')"
      ]
     },
     "execution_count": 11,
     "metadata": {},
     "output_type": "execute_result"
    }
   ],
   "source": [
    "categorical_cols"
   ]
  },
  {
   "cell_type": "markdown",
   "id": "fd9e508a",
   "metadata": {},
   "source": [
    "### 3. Data Visualization: \n",
    "### ○ Create insightful visualizations to understand the \n",
    "### relationships between features and the Churn target. \n",
    "### ○ Generate at least one plot showing the distribution of a \n",
    "### numerical feature for churned vs. non-churned customers \n",
    "### (e.g., a histogram or KDE plot). \n",
    "### ○ Generate at least one plot showing the relationship \n",
    "### between a categorical feature and churn (e.g., a count \n",
    "### plot). \n",
    "### ○ Summarize your key findings from the EDA in a \n",
    "### markdown cell. "
   ]
  },
  {
   "cell_type": "code",
   "execution_count": 12,
   "id": "10466375",
   "metadata": {},
   "outputs": [
    {
     "data": {
      "image/png": "[encoded data removed]",
      "text/plain": [
       "<Figure size 1440x1440 with 16 Axes>"
      ]
     },
     "metadata": {
      "needs_background": "light"
     },
     "output_type": "display_data"
    }
   ],
   "source": [
    "# length = len(categorical_cols)\n",
    "fig,ax = plt.subplots(nrows= 8,ncols=2,figsize=(20,20))\n",
    "\n",
    "# for i,cols in enumerate(categorical_cols)\n",
    "sns.countplot(data=df,x='gender',hue='Churn',ax=ax[0,0])\n",
    "sns.countplot(data=df,x='Partner',hue='Churn',ax=ax[0,1])\n",
    "sns.countplot(data=df,x='Dependents',hue='Churn',ax=ax[1,0])\n",
    "sns.countplot(data=df,x='PhoneService',hue='Churn',ax=ax[1,1])\n",
    "sns.countplot(data=df,x='MultipleLines',hue='Churn',ax=ax[2,0])\n",
    "sns.countplot(data=df,x='InternetService',hue='Churn',ax=ax[2,1])\n",
    "sns.countplot(data=df,x='OnlineSecurity',hue='Churn',ax=ax[3,0])\n",
    "sns.countplot(data=df,x='OnlineBackup',hue='Churn',ax=ax[3,1])\n",
    "sns.countplot(data=df,x='DeviceProtection',hue='Churn',ax=ax[4,0])\n",
    "sns.countplot(data=df,x='TechSupport',hue='Churn',ax=ax[4,1])\n",
    "sns.countplot(data=df,x='StreamingTV',hue='Churn',ax=ax[5,0])\n",
    "sns.countplot(data=df,x='StreamingMovies',hue='Churn',ax=ax[5,1])\n",
    "sns.countplot(data=df,x='Contract',hue='Churn',ax=ax[6,0])\n",
    "sns.countplot(data=df,x='PaperlessBilling',hue='Churn',ax=ax[6,1])\n",
    "sns.countplot(data=df,x='PaymentMethod',hue='Churn',ax=ax[7,0])\n",
    "\n",
    "plt.tight_layout()\n",
    "plt.show()"
   ]
  },
  {
   "cell_type": "code",
   "execution_count": 13,
   "id": "5e8149aa",
   "metadata": {},
   "outputs": [
    {
     "data": {
      "text/plain": [
       "Index(['SeniorCitizen', 'tenure', 'MonthlyCharges', 'TotalCharges'], dtype='object')"
      ]
     },
     "execution_count": 13,
     "metadata": {},
     "output_type": "execute_result"
    }
   ],
   "source": [
    "numerical_cols"
   ]
  },
  {
   "cell_type": "code",
   "execution_count": 14,
   "id": "7ed3cad9",
   "metadata": {},
   "outputs": [],
   "source": [
    "# pip install --upgrade seaborn"
   ]
  },
  {
   "cell_type": "code",
   "execution_count": 15,
   "id": "63a0251f",
   "metadata": {},
   "outputs": [
    {
     "data": {
      "image/png": "[encoded data removed]",
      "text/plain": [
       "<Figure size 720x432 with 4 Axes>"
      ]
     },
     "metadata": {
      "needs_background": "light"
     },
     "output_type": "display_data"
    },
    {
     "data": {
      "image/png": "[encoded data removed]",
      "text/plain": [
       "<Figure size 720x432 with 4 Axes>"
      ]
     },
     "metadata": {
      "needs_background": "light"
     },
     "output_type": "display_data"
    }
   ],
   "source": [
    "fig,ax_1 = plt.subplots(nrows=2,ncols=2,figsize=(10,6))\n",
    "\n",
    "df_churn = df[df['Churn'] == 'Yes']\n",
    "sns.histplot(data=df_churn,x='tenure',hue='Churn',bins=20,ax=ax_1[0,0],multiple='dodge')\n",
    "sns.histplot(data=df_churn,x='MonthlyCharges',hue='Churn',bins=20,ax=ax_1[0,1],multiple='dodge')\n",
    "sns.histplot(data=df_churn,x='TotalCharges',hue='Churn',bins=20,ax=ax_1[1,0],multiple='dodge')\n",
    "\n",
    "fig,ax_2 = plt.subplots(nrows=2,ncols=2,figsize=(10,6))\n",
    "df_nochurn = df[df['Churn'] == 'No']\n",
    "sns.histplot(data=df_nochurn,x='tenure',hue='Churn',bins=20,ax=ax_2[0,0],multiple='dodge')\n",
    "sns.histplot(data=df_nochurn,x='MonthlyCharges',hue='Churn',bins=20,ax=ax_2[0,1],multiple='dodge')\n",
    "sns.histplot(data=df_nochurn,x='TotalCharges',hue='Churn',bins=20,ax=ax_2[1,0],multiple='dodge')\n",
    "\n",
    "plt.tight_layout()\n",
    "plt.show()"
   ]
  },
  {
   "cell_type": "markdown",
   "id": "4b9f061f",
   "metadata": {},
   "source": [
    "# Task 2: Feature Engineering\n",
    "### Create at least two new, meaningful features from the existing data. \n",
    "### Justify why you believe these features might improve model \n",
    "### performance."
   ]
  },
  {
   "cell_type": "code",
   "execution_count": 16,
   "id": "69f3e9bf",
   "metadata": {},
   "outputs": [],
   "source": [
    "df[\"SeniorAlone\"] = (\n",
    "            (df['SeniorCitizen'] == 1) &\n",
    "            (df['Partner'] == 'No') &\n",
    "            (df['Dependents'] == 'No')\n",
    "        ).astype(int)"
   ]
  },
  {
   "cell_type": "code",
   "execution_count": 17,
   "id": "c9bc3941",
   "metadata": {},
   "outputs": [],
   "source": [
    "df['ServiceCount'] = df[service].apply(lambda X : (X == 'Yes').sum(),axis = 1)"
   ]
  },
  {
   "cell_type": "code",
   "execution_count": 18,
   "id": "124c1d01",
   "metadata": {},
   "outputs": [
    {
     "data": {
      "text/html": [
       "<div>\n",
       "<style scoped>\n",
       "    .dataframe tbody tr th:only-of-type {\n",
       "        vertical-align: middle;\n",
       "    }\n",
       "\n",
       "    .dataframe tbody tr th {\n",
       "        vertical-align: top;\n",
       "    }\n",
       "\n",
       "    .dataframe thead th {\n",
       "        text-align: right;\n",
       "    }\n",
       "</style>\n",
       "<table border=\"1\" class=\"dataframe\">\n",
       "  <thead>\n",
       "    <tr style=\"text-align: right;\">\n",
       "      <th></th>\n",
       "      <th>SeniorCitizen</th>\n",
       "      <th>Partner</th>\n",
       "      <th>Dependents</th>\n",
       "      <th>SeniorAlone</th>\n",
       "      <th>ServiceCount</th>\n",
       "    </tr>\n",
       "  </thead>\n",
       "  <tbody>\n",
       "    <tr>\n",
       "      <th>0</th>\n",
       "      <td>0</td>\n",
       "      <td>Yes</td>\n",
       "      <td>No</td>\n",
       "      <td>0</td>\n",
       "      <td>1</td>\n",
       "    </tr>\n",
       "    <tr>\n",
       "      <th>1</th>\n",
       "      <td>0</td>\n",
       "      <td>No</td>\n",
       "      <td>No</td>\n",
       "      <td>0</td>\n",
       "      <td>3</td>\n",
       "    </tr>\n",
       "    <tr>\n",
       "      <th>2</th>\n",
       "      <td>0</td>\n",
       "      <td>No</td>\n",
       "      <td>No</td>\n",
       "      <td>0</td>\n",
       "      <td>3</td>\n",
       "    </tr>\n",
       "    <tr>\n",
       "      <th>3</th>\n",
       "      <td>0</td>\n",
       "      <td>No</td>\n",
       "      <td>No</td>\n",
       "      <td>0</td>\n",
       "      <td>3</td>\n",
       "    </tr>\n",
       "    <tr>\n",
       "      <th>4</th>\n",
       "      <td>0</td>\n",
       "      <td>No</td>\n",
       "      <td>No</td>\n",
       "      <td>0</td>\n",
       "      <td>1</td>\n",
       "    </tr>\n",
       "    <tr>\n",
       "      <th>...</th>\n",
       "      <td>...</td>\n",
       "      <td>...</td>\n",
       "      <td>...</td>\n",
       "      <td>...</td>\n",
       "      <td>...</td>\n",
       "    </tr>\n",
       "    <tr>\n",
       "      <th>7038</th>\n",
       "      <td>0</td>\n",
       "      <td>Yes</td>\n",
       "      <td>Yes</td>\n",
       "      <td>0</td>\n",
       "      <td>7</td>\n",
       "    </tr>\n",
       "    <tr>\n",
       "      <th>7039</th>\n",
       "      <td>0</td>\n",
       "      <td>Yes</td>\n",
       "      <td>Yes</td>\n",
       "      <td>0</td>\n",
       "      <td>6</td>\n",
       "    </tr>\n",
       "    <tr>\n",
       "      <th>7040</th>\n",
       "      <td>0</td>\n",
       "      <td>Yes</td>\n",
       "      <td>Yes</td>\n",
       "      <td>0</td>\n",
       "      <td>1</td>\n",
       "    </tr>\n",
       "    <tr>\n",
       "      <th>7041</th>\n",
       "      <td>1</td>\n",
       "      <td>Yes</td>\n",
       "      <td>No</td>\n",
       "      <td>0</td>\n",
       "      <td>2</td>\n",
       "    </tr>\n",
       "    <tr>\n",
       "      <th>7042</th>\n",
       "      <td>0</td>\n",
       "      <td>No</td>\n",
       "      <td>No</td>\n",
       "      <td>0</td>\n",
       "      <td>6</td>\n",
       "    </tr>\n",
       "  </tbody>\n",
       "</table>\n",
       "<p>7043 rows × 5 columns</p>\n",
       "</div>"
      ],
      "text/plain": [
       "      SeniorCitizen Partner Dependents  SeniorAlone  ServiceCount\n",
       "0                 0     Yes         No            0             1\n",
       "1                 0      No         No            0             3\n",
       "2                 0      No         No            0             3\n",
       "3                 0      No         No            0             3\n",
       "4                 0      No         No            0             1\n",
       "...             ...     ...        ...          ...           ...\n",
       "7038              0     Yes        Yes            0             7\n",
       "7039              0     Yes        Yes            0             6\n",
       "7040              0     Yes        Yes            0             1\n",
       "7041              1     Yes         No            0             2\n",
       "7042              0      No         No            0             6\n",
       "\n",
       "[7043 rows x 5 columns]"
      ]
     },
     "execution_count": 18,
     "metadata": {},
     "output_type": "execute_result"
    }
   ],
   "source": [
    "df[['SeniorCitizen','Partner','Dependents','SeniorAlone','ServiceCount']]"
   ]
  },
  {
   "cell_type": "code",
   "execution_count": 19,
   "id": "6e7a754d",
   "metadata": {},
   "outputs": [
    {
     "name": "stdout",
     "output_type": "stream",
     "text": [
      "<class 'pandas.core.frame.DataFrame'>\n",
      "RangeIndex: 7043 entries, 0 to 7042\n",
      "Data columns (total 23 columns):\n",
      " #   Column            Non-Null Count  Dtype  \n",
      "---  ------            --------------  -----  \n",
      " 0   customerID        7043 non-null   object \n",
      " 1   gender            7043 non-null   object \n",
      " 2   SeniorCitizen     7043 non-null   int64  \n",
      " 3   Partner           7043 non-null   object \n",
      " 4   Dependents        7043 non-null   object \n",
      " 5   tenure            7043 non-null   int64  \n",
      " 6   PhoneService      7043 non-null   object \n",
      " 7   MultipleLines     7043 non-null   object \n",
      " 8   InternetService   7043 non-null   object \n",
      " 9   OnlineSecurity    7043 non-null   object \n",
      " 10  OnlineBackup      7043 non-null   object \n",
      " 11  DeviceProtection  7043 non-null   object \n",
      " 12  TechSupport       7043 non-null   object \n",
      " 13  StreamingTV       7043 non-null   object \n",
      " 14  StreamingMovies   7043 non-null   object \n",
      " 15  Contract          7043 non-null   object \n",
      " 16  PaperlessBilling  7043 non-null   object \n",
      " 17  PaymentMethod     7043 non-null   object \n",
      " 18  MonthlyCharges    7043 non-null   float64\n",
      " 19  TotalCharges      7032 non-null   float64\n",
      " 20  Churn             7043 non-null   object \n",
      " 21  SeniorAlone       7043 non-null   int32  \n",
      " 22  ServiceCount      7043 non-null   int64  \n",
      "dtypes: float64(2), int32(1), int64(3), object(17)\n",
      "memory usage: 1.2+ MB\n"
     ]
    }
   ],
   "source": [
    "df.info()"
   ]
  },
  {
   "cell_type": "code",
   "execution_count": 20,
   "id": "4f9333f0",
   "metadata": {},
   "outputs": [],
   "source": [
    "X = df.drop(columns = ['customerID','Churn'])\n",
    "y = df['Churn']"
   ]
  },
  {
   "cell_type": "code",
   "execution_count": 21,
   "id": "8b761e40",
   "metadata": {},
   "outputs": [
    {
     "data": {
      "text/plain": [
       "<bound method DataFrame.isna of       gender  SeniorCitizen Partner Dependents  tenure PhoneService  \\\n",
       "0     Female              0     Yes         No       1           No   \n",
       "1       Male              0      No         No      34          Yes   \n",
       "2       Male              0      No         No       2          Yes   \n",
       "3       Male              0      No         No      45           No   \n",
       "4     Female              0      No         No       2          Yes   \n",
       "...      ...            ...     ...        ...     ...          ...   \n",
       "7038    Male              0     Yes        Yes      24          Yes   \n",
       "7039  Female              0     Yes        Yes      72          Yes   \n",
       "7040  Female              0     Yes        Yes      11           No   \n",
       "7041    Male              1     Yes         No       4          Yes   \n",
       "7042    Male              0      No         No      66          Yes   \n",
       "\n",
       "         MultipleLines InternetService OnlineSecurity OnlineBackup  ...  \\\n",
       "0     No phone service             DSL             No          Yes  ...   \n",
       "1                   No             DSL            Yes           No  ...   \n",
       "2                   No             DSL            Yes          Yes  ...   \n",
       "3     No phone service             DSL            Yes           No  ...   \n",
       "4                   No     Fiber optic             No           No  ...   \n",
       "...                ...             ...            ...          ...  ...   \n",
       "7038               Yes             DSL            Yes           No  ...   \n",
       "7039               Yes     Fiber optic             No          Yes  ...   \n",
       "7040  No phone service             DSL            Yes           No  ...   \n",
       "7041               Yes     Fiber optic             No           No  ...   \n",
       "7042                No     Fiber optic            Yes           No  ...   \n",
       "\n",
       "     TechSupport StreamingTV StreamingMovies        Contract PaperlessBilling  \\\n",
       "0             No          No              No  Month-to-month              Yes   \n",
       "1             No          No              No        One year               No   \n",
       "2             No          No              No  Month-to-month              Yes   \n",
       "3            Yes          No              No        One year               No   \n",
       "4             No          No              No  Month-to-month              Yes   \n",
       "...          ...         ...             ...             ...              ...   \n",
       "7038         Yes         Yes             Yes        One year              Yes   \n",
       "7039          No         Yes             Yes        One year              Yes   \n",
       "7040          No          No              No  Month-to-month              Yes   \n",
       "7041          No          No              No  Month-to-month              Yes   \n",
       "7042         Yes         Yes             Yes        Two year              Yes   \n",
       "\n",
       "                  PaymentMethod MonthlyCharges  TotalCharges  SeniorAlone  \\\n",
       "0              Electronic check          29.85         29.85            0   \n",
       "1                  Mailed check          56.95       1889.50            0   \n",
       "2                  Mailed check          53.85        108.15            0   \n",
       "3     Bank transfer (automatic)          42.30       1840.75            0   \n",
       "4              Electronic check          70.70        151.65            0   \n",
       "...                         ...            ...           ...          ...   \n",
       "7038               Mailed check          84.80       1990.50            0   \n",
       "7039    Credit card (automatic)         103.20       7362.90            0   \n",
       "7040           Electronic check          29.60        346.45            0   \n",
       "7041               Mailed check          74.40        306.60            0   \n",
       "7042  Bank transfer (automatic)         105.65       6844.50            0   \n",
       "\n",
       "      ServiceCount  \n",
       "0                1  \n",
       "1                3  \n",
       "2                3  \n",
       "3                3  \n",
       "4                1  \n",
       "...            ...  \n",
       "7038             7  \n",
       "7039             6  \n",
       "7040             1  \n",
       "7041             2  \n",
       "7042             6  \n",
       "\n",
       "[7043 rows x 21 columns]>"
      ]
     },
     "execution_count": 21,
     "metadata": {},
     "output_type": "execute_result"
    }
   ],
   "source": [
    "X.isna"
   ]
  },
  {
   "cell_type": "code",
   "execution_count": 22,
   "id": "f3df6d78",
   "metadata": {},
   "outputs": [
    {
     "data": {
      "text/plain": [
       "0.961642499724251"
      ]
     },
     "execution_count": 22,
     "metadata": {},
     "output_type": "execute_result"
    }
   ],
   "source": [
    "X['TotalCharges'].skew()"
   ]
  },
  {
   "cell_type": "markdown",
   "id": "ced85008",
   "metadata": {},
   "source": [
    "# Task 3: Building the End-to-End Pipeline "
   ]
  },
  {
   "cell_type": "code",
   "execution_count": 23,
   "id": "3f7b3853",
   "metadata": {},
   "outputs": [],
   "source": [
    "cat_bin = ['gender','Partner','Dependents','PhoneService','PaperlessBilling']\n",
    "cat_onehot = ['PhoneService','MultipleLines','InternetService','OnlineSecurity','OnlineBackup','DeviceProtection','TechSupport','StreamingTV','StreamingMovies','Contract','PaymentMethod']\n",
    "numeric_cols = ['MonthlyCharges','ServiceCount','tenure']\n",
    "imputer_col = ['TotalCharges']"
   ]
  },
  {
   "cell_type": "code",
   "execution_count": 24,
   "id": "e089a7b6",
   "metadata": {},
   "outputs": [],
   "source": [
    "class Senior_CitizenAlone(BaseEstimator,TransformerMixin):\n",
    "    def fit(self,df,y=None):\n",
    "        return self\n",
    "\n",
    "    def transform(self,df):\n",
    "        df = df.copy()\n",
    "        df[\"SeniorAlone\"] = (\n",
    "            (df['SeniorCitizen'] == 1) &\n",
    "            (df['Partner'] == 'No') &\n",
    "            (df['Dependents'] == 'No')\n",
    "        ).astype(int)\n",
    "        return df"
   ]
  },
  {
   "cell_type": "code",
   "execution_count": 25,
   "id": "9cfe49fe",
   "metadata": {},
   "outputs": [],
   "source": [
    "class ServiceCount(BaseEstimator,TransformerMixin):\n",
    "    def __init__(self,service):\n",
    "        self.service = service\n",
    "    def fit(self,df,y=None):\n",
    "        return self\n",
    "    \n",
    "    def transform(self,df):\n",
    "        df = df.copy()\n",
    "        df['ServiceCount'] = df[service].apply(lambda X : (X == 'Yes').sum(),axis = 1)\n",
    "        return df"
   ]
  },
  {
   "cell_type": "code",
   "execution_count": 26,
   "id": "fe27d4aa",
   "metadata": {},
   "outputs": [],
   "source": [
    "feature_engineering = Pipeline(steps=[\n",
    "    ('senior_alone',Senior_CitizenAlone()),\n",
    "    ('service_count',ServiceCount(service = service))\n",
    "])\n",
    "\n",
    "simple_imputer = Pipeline(steps=[\n",
    "    ('imputer',SimpleImputer(strategy='mean')),\n",
    "    ('scaler', StandardScaler())\n",
    "])\n",
    "\n",
    "cat_one = Pipeline(steps = [\n",
    "    ('imputer',SimpleImputer(strategy='most_frequent')),\n",
    "    ('cat_col',OneHotEncoder(handle_unknown='ignore'))\n",
    "])\n",
    "\n",
    "cat_binary = Pipeline(steps = [\n",
    "    ('imputer',SimpleImputer(strategy='most_frequent')),\n",
    "    ('cat_bin',OneHotEncoder(handle_unknown='ignore',drop=\"if_binary\"))\n",
    "])\n",
    "\n",
    "num_scaler = Pipeline(steps = [\n",
    "    ('scaler', StandardScaler())\n",
    "])\n",
    "\n",
    "preprocessor = ColumnTransformer(transformers=[\n",
    "    ('num',num_scaler,numeric_cols),\n",
    "    ('impute',simple_imputer,imputer_col),\n",
    "    ('onehot_binary',cat_binary,cat_bin),\n",
    "    ('onehot',cat_one,cat_onehot)\n",
    "])\n",
    "\n",
    "models = {\n",
    "    'LogisticRegression' : LogisticRegression(max_iter = 1000),\n",
    "    'RandomForestClassifier': RandomForestClassifier(n_estimators=100,random_state=42),\n",
    "    'GradientBoostingClassifier': GradientBoostingClassifier(n_estimators=100,random_state=42)\n",
    "}\n",
    "\n",
    "X_train,X_test,y_train,y_test = train_test_split(X,y,test_size=.3,random_state=42)"
   ]
  },
  {
   "cell_type": "code",
   "execution_count": 39,
   "id": "9ee703af",
   "metadata": {
    "scrolled": false
   },
   "outputs": [
    {
     "name": "stdout",
     "output_type": "stream",
     "text": [
      "Result\n",
      "F1_score: 0.8097794026853734\n",
      "Precision_score: 0.8080506932181153\n",
      "Recall_score: 0.8149550402271651\n",
      "ROC_AUC: 0.8584718345094896\n",
      "--------------------------------------------------------------------------------------------------------\n",
      "Result\n",
      "F1_score: 0.7783749779165898\n",
      "Precision_score: 0.7771655741590129\n",
      "Recall_score: 0.7893989588263133\n",
      "ROC_AUC: 0.828374572383986\n",
      "--------------------------------------------------------------------------------------------------------\n",
      "Result\n",
      "F1_score: 0.7944741819155511\n",
      "Precision_score: 0.7936508282771616\n",
      "Recall_score: 0.8035967818267865\n",
      "ROC_AUC: 0.8571717233463062\n",
      "--------------------------------------------------------------------------------------------------------\n"
     ]
    }
   ],
   "source": [
    "for name,model in models.items():\n",
    "    pipeline = Pipeline(steps=[\n",
    "        ('feature',feature_engineering),\n",
    "        ('preprocessor',preprocessor),\n",
    "        ('classifier',model)\n",
    "    ])\n",
    "    \n",
    "    pipeline.fit(X_train,y_train)\n",
    "    y_predicted = pipeline.predict(X_test)\n",
    "    y_proba = pipeline.predict_proba(X_test)[:, 1]\n",
    "    \n",
    "    print(\"Result\")\n",
    "    print(f\"F1_score: {f1_score(y_test,y_predicted,average='weighted')}\")\n",
    "    print(f\"Precision_score: {precision_score(y_test,y_predicted,average='weighted')}\")\n",
    "    print(f\"Recall_score: {recall_score(y_test,y_predicted,average='weighted')}\")\n",
    "    print(f\"ROC_AUC: {roc_auc_score(y_test,y_proba)}\")\n",
    "    print(\"--------------------------------------------------------------------------------------------------------\")"
   ]
  },
  {
   "cell_type": "markdown",
   "id": "97f03f1f",
   "metadata": {},
   "source": [
    "# Task 4: Model Selection and Hyperparameter Tuning"
   ]
  },
  {
   "cell_type": "code",
   "execution_count": 40,
   "id": "50361c81",
   "metadata": {},
   "outputs": [
    {
     "name": "stdout",
     "output_type": "stream",
     "text": [
      "Fitting 3 folds for each of 8 candidates, totalling 24 fits\n",
      "Result:\n",
      "F1_score: 0.8097794026853734\n",
      "Precision_score: 0.8080506932181153\n",
      "Recall_score: 0.8149550402271651\n",
      "ROC_AUC: 0.8584695704935328\n"
     ]
    }
   ],
   "source": [
    "gd_gradient =  {\n",
    "    'classifier__C': [0.01, 0.1, 1, 10],\n",
    "    'classifier__solver': ['lbfgs', 'liblinear']\n",
    "}\n",
    "\n",
    "pipeline = Pipeline(steps=[\n",
    "    ('feature',feature_engineering),\n",
    "    ('preprocessor',preprocessor),\n",
    "    ('classifier',LogisticRegression())\n",
    "])\n",
    "\n",
    "gd = GridSearchCV(pipeline,gd_gradient,n_jobs=-1,cv=3,verbose=3,scoring='f1_weighted')\n",
    "gd.fit(X_train,y_train)\n",
    "y_predicted = gd.predict(X_test)\n",
    "y_proba = gd.predict_proba(X_test)[:, 1]\n",
    "\n",
    "print(\"Result:\")\n",
    "print(f\"F1_score: {f1_score(y_test,y_predicted,average='weighted')}\")\n",
    "print(f\"Precision_score: {precision_score(y_test,y_predicted,average='weighted')}\")\n",
    "print(f\"Recall_score: {recall_score(y_test,y_predicted,average='weighted')}\")\n",
    "print(f\"ROC_AUC: {roc_auc_score(y_test,y_proba)}\")"
   ]
  },
  {
   "cell_type": "markdown",
   "id": "8b33a97f",
   "metadata": {},
   "source": [
    "# Imbalance Class\n",
    "#### When the classes were imbalanced the logstic regression performed the best, as random forest anf gradient boosting tend to look for the positive class and in logistic regression we are taking the probability so it is not bothered by class.So, we need to handle class imbalance as RandomForest and logistic regression are performing as per the need."
   ]
  },
  {
   "cell_type": "markdown",
   "id": "81c8c3fb",
   "metadata": {},
   "source": [
    "# Task 5: Handling Class Imbalance"
   ]
  },
  {
   "cell_type": "code",
   "execution_count": 133,
   "id": "86b05dce",
   "metadata": {},
   "outputs": [
    {
     "name": "stdout",
     "output_type": "stream",
     "text": [
      "Collecting imbalanced-learn\n",
      "  Using cached imbalanced_learn-0.12.4-py3-none-any.whl (258 kB)\n",
      "Requirement already satisfied: threadpoolctl>=2.0.0 in c:\\users\\meet\\anaconda3\\lib\\site-packages (from imbalanced-learn) (2.2.0)\n",
      "Collecting joblib>=1.1.1\n",
      "  Using cached joblib-1.5.2-py3-none-any.whl (308 kB)\n",
      "Requirement already satisfied: numpy>=1.17.3 in c:\\users\\meet\\anaconda3\\lib\\site-packages (from imbalanced-learn) (1.22.4)\n",
      "Requirement already satisfied: scikit-learn>=1.0.2 in c:\\users\\meet\\anaconda3\\lib\\site-packages (from imbalanced-learn) (1.0.2)\n",
      "Requirement already satisfied: scipy>=1.5.0 in c:\\users\\meet\\anaconda3\\lib\\site-packages (from imbalanced-learn) (1.7.3)\n",
      "Installing collected packages: joblib, imbalanced-learn\n",
      "  Attempting uninstall: joblib\n",
      "    Found existing installation: joblib 1.1.0\n",
      "    Uninstalling joblib-1.1.0:\n",
      "      Successfully uninstalled joblib-1.1.0\n",
      "Successfully installed imbalanced-learn-0.12.4 joblib-1.5.2\n",
      "Note: you may need to restart the kernel to use updated packages.\n"
     ]
    }
   ],
   "source": [
    "pip install imbalanced-learn"
   ]
  },
  {
   "cell_type": "code",
   "execution_count": 41,
   "id": "a2aad1d5",
   "metadata": {},
   "outputs": [],
   "source": [
    "import imblearn.pipeline as pl \n",
    "from imblearn.over_sampling import SMOTE"
   ]
  },
  {
   "cell_type": "code",
   "execution_count": 69,
   "id": "8b0fd71f",
   "metadata": {},
   "outputs": [
    {
     "name": "stdout",
     "output_type": "stream",
     "text": [
      "Result\n",
      "F1_Score: 0.771279549287691\n",
      "Precision_score: 0.8159072367362051\n",
      "Recall_score: 0.759110269758637\n",
      "-----------------------------------------------------------------------------------------------------------------\n",
      "Result\n",
      "F1_Score: 0.7792113154853232\n",
      "Precision_score: 0.7775136694983531\n",
      "Recall_score: 0.7813535257927118\n",
      "-----------------------------------------------------------------------------------------------------------------\n",
      "Result\n",
      "F1_Score: 0.7948219483806402\n",
      "Precision_score: 0.8048918845217528\n",
      "Recall_score: 0.7893989588263133\n",
      "-----------------------------------------------------------------------------------------------------------------\n"
     ]
    }
   ],
   "source": [
    "resample = SMOTE(random_state=42)\n",
    "\n",
    "feature_engineering = pl.Pipeline(steps=[\n",
    "    ('senior_alone',Senior_CitizenAlone()),\n",
    "    ('service_count',ServiceCount(service = service))\n",
    "])\n",
    "\n",
    "simple_imputer = pl.Pipeline(steps=[\n",
    "    ('imputer',SimpleImputer(strategy='mean')),\n",
    "    ('scaler', StandardScaler())\n",
    "])\n",
    "\n",
    "cat_one = pl.Pipeline(steps = [\n",
    "    ('imputer',SimpleImputer(strategy='most_frequent')),\n",
    "    ('cat_col',OneHotEncoder(handle_unknown='ignore'))\n",
    "])\n",
    "\n",
    "cat_binary = pl.Pipeline(steps = [\n",
    "    ('imputer',SimpleImputer(strategy='most_frequent')),\n",
    "    ('cat_bin',OneHotEncoder(handle_unknown='ignore',drop=\"if_binary\"))\n",
    "])\n",
    "\n",
    "num_scaler = pl.Pipeline(steps = [\n",
    "    ('scaler', StandardScaler())\n",
    "])\n",
    "\n",
    "preprocessor = ColumnTransformer(transformers=[\n",
    "    ('num',num_scaler,numeric_cols),\n",
    "    ('impute',simple_imputer,imputer_col),\n",
    "    ('onehot_binary',cat_binary,cat_bin),\n",
    "    ('onehot',cat_one,cat_onehot)\n",
    "])\n",
    "\n",
    "models = {\n",
    "    'LogisticRegression' : LogisticRegression(max_iter = 1000),\n",
    "    'RandomForestClassifier': RandomForestClassifier(n_estimators=100,random_state=42),\n",
    "    'GradientBoostingClassifier': GradientBoostingClassifier(n_estimators=100,random_state=42)\n",
    "}\n",
    "\n",
    "X_train,X_test,y_train,y_test = train_test_split(X,y,test_size=.3,random_state=42)\n",
    "\n",
    "for name,model in models.items():\n",
    "    pipeline = pl.Pipeline(steps=[\n",
    "        ('senior_alone',Senior_CitizenAlone()),\n",
    "        ('service_count',ServiceCount(service = service)),\n",
    "        ('preprocessor',preprocessor),\n",
    "        ('resampler',resample),\n",
    "        ('classifier',model)\n",
    "    ])\n",
    "    \n",
    "    pipeline.fit(X_train,y_train)\n",
    "    y_predicted = pipeline.predict(X_test)\n",
    "    y_proba = pipeline.predict_proba(X_test)[:, 1]\n",
    "    \n",
    "    print(\"Result\")\n",
    "    print(f\"F1_Score: {f1_score(y_test,y_predicted,average='weighted')}\")\n",
    "    print(f\"Precision_score: {precision_score(y_test,y_predicted,average='weighted')}\")\n",
    "    print(f\"Recall_score: {recall_score(y_test,y_predicted,average='weighted')}\")\n",
    "    print(\"-----------------------------------------------------------------------------------------------------------------\")"
   ]
  },
  {
   "cell_type": "markdown",
   "id": "71761aa8",
   "metadata": {},
   "source": [
    "# Analysis for the Score\n",
    "#### After applying the resample on the dataset, Gradient Boosting and Random Forest are working correctly as needed, we can see that the F1_score for the logistic regression also dropped.\n",
    "\n",
    "#### As the data is not imbalanced we see the Recall for the logistic regression has also dropped as it may not simply predict the majoritt class.(If the class is imbalance then the model may predict the majority of the class and we may get high accuracy with low precision and low recall.)\n",
    "\n",
    "#### So ,I have applied SMOTE which keeps the majoirty data as it is,but generate the synthetic data for the minority class."
   ]
  },
  {
   "cell_type": "code",
   "execution_count": 71,
   "id": "a306887a",
   "metadata": {},
   "outputs": [
    {
     "name": "stdout",
     "output_type": "stream",
     "text": [
      "Fitting 3 folds for each of 12 candidates, totalling 36 fits\n",
      "Result:\n",
      "F1_score: 0.7948219483806402\n",
      "Precision_score: 0.8048918845217528\n",
      "Recall_score: 0.7893989588263133\n"
     ]
    }
   ],
   "source": [
    "gd_gradient =  {\n",
    "    'classifier__n_estimators': [100,500],\n",
    "    'classifier__max_depth' : [3,5],\n",
    "    'classifier__learning_rate' : [.01,.1,.2]\n",
    "}\n",
    "\n",
    "pipeline = pl.Pipeline(steps=[\n",
    "    ('senior_alone',Senior_CitizenAlone()),\n",
    "    ('service_count',ServiceCount(service = service)),\n",
    "    ('preprocessor',preprocessor),\n",
    "    ('resampler',resample),\n",
    "    ('classifier',GradientBoostingClassifier())\n",
    "])\n",
    "\n",
    "gd = GridSearchCV(pipeline,gd_gradient,n_jobs=-1,cv=3,verbose=3,scoring='f1_weighted')\n",
    "gd.fit(X_train,y_train)\n",
    "y_predicted = gd.predict(X_test)\n",
    "\n",
    "print(\"Result:\")\n",
    "print(f\"F1_score: {f1_score(y_test,y_predicted,average='weighted')}\")\n",
    "print(f\"Precision_score: {precision_score(y_test,y_predicted,average='weighted')}\")\n",
    "print(f\"Recall_score: {recall_score(y_test,y_predicted,average='weighted')}\")"
   ]
  },
  {
   "cell_type": "markdown",
   "id": "61f499bd",
   "metadata": {},
   "source": [
    "## Task 6: Final Evaluation and Interpretation \n",
    "## 1. Test Set Evaluation: Evaluate your final, tuned pipeline (with \n",
    "## the imbalance handling) on the held-out test set. \n",
    "## 2. Metrics Report: Report the following metrics: Precision, \n",
    "## Recall, F1-Score, and the ROC AUC score. Also, display the \n",
    "## Classification Report and Confusion Matrix. \n",
    "## 3. Interpretation: \n",
    "## ○ Analyze the confusion matrix. In the context of customer \n",
    "## churn, what is the business cost of a False Positive versus \n",
    "## a False Negative? Which one is worse? \n",
    "## ○ If your final model was a tree-based ensemble (like \n",
    "## Random Forest or Gradient Boosting), extract and \n",
    "## visualize the top 10 most important features. Discuss \n",
    "## what these features tell you about the main drivers of \n",
    "## customer churn."
   ]
  },
  {
   "cell_type": "code",
   "execution_count": 72,
   "id": "ad5f5040",
   "metadata": {},
   "outputs": [
    {
     "data": {
      "text/plain": [
       "Text(0.5, 1.0, 'Confusion Matrix for GradientBoostingClassifier')"
      ]
     },
     "execution_count": 72,
     "metadata": {},
     "output_type": "execute_result"
    },
    {
     "data": {
      "image/png": "[encoded data removed]",
      "text/plain": [
       "<Figure size 432x288 with 2 Axes>"
      ]
     },
     "metadata": {
      "needs_background": "light"
     },
     "output_type": "display_data"
    }
   ],
   "source": [
    "cm = confusion_matrix(y_test,y_predicted, labels = gd.classes_)\n",
    "disp = ConfusionMatrixDisplay(confusion_matrix = cm,display_labels = gd.classes_)\n",
    "disp.plot(cmap=\"Blues\")\n",
    "plt.title(f\"Confusion Matrix for {name}\")"
   ]
  },
  {
   "cell_type": "markdown",
   "id": "07b5cecf",
   "metadata": {},
   "source": [
    "# Analysis for Confusion Matrix\n",
    "#### True_Positive = Customers correctly predicted as churning\n",
    "#### True_Negative = Customer predicted churning but actually stayed\n",
    "#### False_Positive = Customer correctly predicted as not churning\n",
    "#### False_Negative = Customer predicted not churning but actually churned\n",
    "\n",
    "#### Bussiness Cost:\n",
    "#### False_Positive - These more need as company need to retain the customer by offering them some attractive offers.\n",
    "#### False_negative - These is actually harming the company as its states that the customer is not churning but it has churned in fact.\n",
    "\n",
    "#### Which one is the Worst?\n",
    "#### Actually, False_Negative is the worst."
   ]
  },
  {
   "cell_type": "code",
   "execution_count": 86,
   "id": "11232eb9",
   "metadata": {},
   "outputs": [
    {
     "data": {
      "text/plain": [
       "ColumnTransformer(transformers=[('num',\n",
       "                                 Pipeline(steps=[('scaler', StandardScaler())]),\n",
       "                                 ['MonthlyCharges', 'ServiceCount', 'tenure']),\n",
       "                                ('impute',\n",
       "                                 Pipeline(steps=[('imputer', SimpleImputer()),\n",
       "                                                 ('scaler', StandardScaler())]),\n",
       "                                 ['TotalCharges']),\n",
       "                                ('onehot_binary',\n",
       "                                 Pipeline(steps=[('imputer',\n",
       "                                                  SimpleImputer(strategy='most_frequent')),\n",
       "                                                 ('cat_bin',\n",
       "                                                  OneHotEncoder(drop='if_...\n",
       "                                 ['gender', 'Partner', 'Dependents',\n",
       "                                  'PhoneService', 'PaperlessBilling']),\n",
       "                                ('onehot',\n",
       "                                 Pipeline(steps=[('imputer',\n",
       "                                                  SimpleImputer(strategy='most_frequent')),\n",
       "                                                 ('cat_col',\n",
       "                                                  OneHotEncoder(handle_unknown='ignore'))]),\n",
       "                                 ['PhoneService', 'MultipleLines',\n",
       "                                  'InternetService', 'OnlineSecurity',\n",
       "                                  'OnlineBackup', 'DeviceProtection',\n",
       "                                  'TechSupport', 'StreamingTV',\n",
       "                                  'StreamingMovies', 'Contract',\n",
       "                                  'PaymentMethod'])])"
      ]
     },
     "execution_count": 86,
     "metadata": {},
     "output_type": "execute_result"
    }
   ],
   "source": [
    "best_model = gd.best_estimator_\n",
    "\n",
    "importance = best_model.named_steps['classifier'].feature_importances_\n",
    "\n",
    "preprocessor = best_model.named_steps['preprocessor']\n",
    "preprocessor"
   ]
  },
  {
   "cell_type": "code",
   "execution_count": 87,
   "id": "81f05e69",
   "metadata": {},
   "outputs": [],
   "source": [
    "numeric_feature = preprocessor.transformers_[0][2]   \n",
    "imputed_feature = preprocessor.transformers_[1][2]  \n",
    "\n",
    "binary_encoded = preprocessor.named_transformers_['onehot_binary'].named_steps['cat_bin']\n",
    "binary_feature = binary_encoded.get_feature_names_out(\n",
    "    preprocessor.transformers_[2][2]   \n",
    ")\n",
    "\n",
    "onehot_encoded = preprocessor.named_transformers_['onehot'].named_steps['cat_col']\n",
    "onehot_feature = onehot_encoded.get_feature_names_out(\n",
    "    preprocessor.transformers_[3][2]   \n",
    ")\n",
    "\n",
    "all_features = (\n",
    "    list(numeric_feature) +\n",
    "    list(imputed_feature) +\n",
    "    list(binary_features) +\n",
    "    list(onehot_feature)\n",
    ")"
   ]
  },
  {
   "cell_type": "code",
   "execution_count": 88,
   "id": "e7768c67",
   "metadata": {},
   "outputs": [],
   "source": [
    "feature_importance_df = pd.DataFrame({\n",
    "    \"Feature\": all_features,\n",
    "    \"Importance\": importance\n",
    "}).sort_values(by=\"Importance\", ascending=False)"
   ]
  },
  {
   "cell_type": "code",
   "execution_count": 91,
   "id": "e9ada63d",
   "metadata": {},
   "outputs": [],
   "source": [
    "df_top5 = feature_importance_df.head(10)"
   ]
  },
  {
   "cell_type": "code",
   "execution_count": 92,
   "id": "911d1357",
   "metadata": {},
   "outputs": [
    {
     "data": {
      "text/plain": [
       "<AxesSubplot:xlabel='Importance', ylabel='Feature'>"
      ]
     },
     "execution_count": 92,
     "metadata": {},
     "output_type": "execute_result"
    },
    {
     "data": {
      "image/png": "[encoded data removed]",
      "text/plain": [
       "<Figure size 432x288 with 1 Axes>"
      ]
     },
     "metadata": {
      "needs_background": "light"
     },
     "output_type": "display_data"
    }
   ],
   "source": [
    "sns.barplot(data=df_top5,x='Importance',y='Feature',orient='h')"
   ]
  },
  {
   "cell_type": "markdown",
   "id": "4af62e6a",
   "metadata": {},
   "source": [
    "# Analysis for the Above Graph\n",
    "#### From the above horizontal graph it can be infered that Contract_Month-to-Month is important predictor.That is customer with contract month-to-month are more likely to be churn.\n",
    "#### Then followed by the tenure.Lower the tenure higher is the churn.\n",
    "#### Customer withoth online security service have higher churn rates."
   ]
  },
  {
   "cell_type": "code",
   "execution_count": 93,
   "id": "8b287c21",
   "metadata": {},
   "outputs": [
    {
     "data": {
      "text/html": [
       "<div>\n",
       "<style scoped>\n",
       "    .dataframe tbody tr th:only-of-type {\n",
       "        vertical-align: middle;\n",
       "    }\n",
       "\n",
       "    .dataframe tbody tr th {\n",
       "        vertical-align: top;\n",
       "    }\n",
       "\n",
       "    .dataframe thead th {\n",
       "        text-align: right;\n",
       "    }\n",
       "</style>\n",
       "<table border=\"1\" class=\"dataframe\">\n",
       "  <thead>\n",
       "    <tr style=\"text-align: right;\">\n",
       "      <th></th>\n",
       "      <th>Feature</th>\n",
       "      <th>Importance</th>\n",
       "    </tr>\n",
       "  </thead>\n",
       "  <tbody>\n",
       "    <tr>\n",
       "      <th>35</th>\n",
       "      <td>Contract_Month-to-month</td>\n",
       "      <td>0.384782</td>\n",
       "    </tr>\n",
       "    <tr>\n",
       "      <th>2</th>\n",
       "      <td>tenure</td>\n",
       "      <td>0.097038</td>\n",
       "    </tr>\n",
       "    <tr>\n",
       "      <th>17</th>\n",
       "      <td>OnlineSecurity_No</td>\n",
       "      <td>0.075794</td>\n",
       "    </tr>\n",
       "    <tr>\n",
       "      <th>40</th>\n",
       "      <td>PaymentMethod_Electronic check</td>\n",
       "      <td>0.064490</td>\n",
       "    </tr>\n",
       "    <tr>\n",
       "      <th>8</th>\n",
       "      <td>PaperlessBilling_Yes</td>\n",
       "      <td>0.053531</td>\n",
       "    </tr>\n",
       "    <tr>\n",
       "      <th>26</th>\n",
       "      <td>TechSupport_No</td>\n",
       "      <td>0.036981</td>\n",
       "    </tr>\n",
       "    <tr>\n",
       "      <th>15</th>\n",
       "      <td>InternetService_Fiber optic</td>\n",
       "      <td>0.034315</td>\n",
       "    </tr>\n",
       "    <tr>\n",
       "      <th>6</th>\n",
       "      <td>Dependents_Yes</td>\n",
       "      <td>0.031194</td>\n",
       "    </tr>\n",
       "    <tr>\n",
       "      <th>5</th>\n",
       "      <td>Partner_Yes</td>\n",
       "      <td>0.031194</td>\n",
       "    </tr>\n",
       "    <tr>\n",
       "      <th>4</th>\n",
       "      <td>gender_Male</td>\n",
       "      <td>0.029548</td>\n",
       "    </tr>\n",
       "  </tbody>\n",
       "</table>\n",
       "</div>"
      ],
      "text/plain": [
       "                           Feature  Importance\n",
       "35         Contract_Month-to-month    0.384782\n",
       "2                           tenure    0.097038\n",
       "17               OnlineSecurity_No    0.075794\n",
       "40  PaymentMethod_Electronic check    0.064490\n",
       "8             PaperlessBilling_Yes    0.053531\n",
       "26                  TechSupport_No    0.036981\n",
       "15     InternetService_Fiber optic    0.034315\n",
       "6                   Dependents_Yes    0.031194\n",
       "5                      Partner_Yes    0.031194\n",
       "4                      gender_Male    0.029548"
      ]
     },
     "execution_count": 93,
     "metadata": {},
     "output_type": "execute_result"
    }
   ],
   "source": [
    "df_top5"
   ]
  }
 ],
 "metadata": {
  "kernelspec": {
   "display_name": "Python 3 (ipykernel)",
   "language": "python",
   "name": "python3"
  },
  "language_info": {
   "codemirror_mode": {
    "name": "ipython",
    "version": 3
   },
   "file_extension": ".py",
   "mimetype": "text/x-python",
   "name": "python",
   "nbconvert_exporter": "python",
   "pygments_lexer": "ipython3",
   "version": "3.9.12"
  }
 },
 "nbformat": 4,
 "nbformat_minor": 5
}
