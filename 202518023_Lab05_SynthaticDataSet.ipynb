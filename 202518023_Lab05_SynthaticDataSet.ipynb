{
 "cells": [
  {
   "cell_type": "code",
   "execution_count": 2,
   "id": "44e183fe",
   "metadata": {},
   "outputs": [
    {
     "name": "stderr",
     "output_type": "stream",
     "text": [
      "C:\\Users\\MEET\\anaconda3\\lib\\site-packages\\pandas\\core\\computation\\expressions.py:21: UserWarning: Pandas requires version '2.8.4' or newer of 'numexpr' (version '2.8.1' currently installed).\n",
      "  from pandas.core.computation.check import NUMEXPR_INSTALLED\n",
      "C:\\Users\\MEET\\anaconda3\\lib\\site-packages\\pandas\\core\\arrays\\masked.py:61: UserWarning: Pandas requires version '1.3.6' or newer of 'bottleneck' (version '1.3.4' currently installed).\n",
      "  from pandas.core import (\n"
     ]
    },
    {
     "name": "stdout",
     "output_type": "stream",
     "text": [
      "Libray imported\n"
     ]
    }
   ],
   "source": [
    "import pandas as pd\n",
    "import numpy as np\n",
    "import seaborn as sns\n",
    "import matplotlib.pyplot as plt\n",
    "from sklearn.model_selection import train_test_split, GridSearchCV\n",
    "from sklearn.ensemble import RandomForestClassifier,GradientBoostingClassifier\n",
    "from sklearn.impute import SimpleImputer\n",
    "from sklearn.linear_model import LogisticRegression\n",
    "from sklearn.compose import ColumnTransformer\n",
    "from sklearn.pipeline import Pipeline\n",
    "from sklearn.metrics import accuracy_score,classification_report,f1_score,precision_score,recall_score,confusion_matrix,roc_auc_score,ConfusionMatrixDisplay\n",
    "from sklearn.preprocessing import StandardScaler,LabelEncoder,OneHotEncoder\n",
    "from sklearn.base import BaseEstimator,TransformerMixin\n",
    "import warnings\n",
    "warnings.filterwarnings('ignore')\n",
    "\n",
    "print(\"Libray imported\")"
   ]
  },
  {
   "cell_type": "markdown",
   "id": "23159aaa",
   "metadata": {},
   "source": [
    "# Task 1: Exploratory Data Analysis (EDA) and Initial Cleaning "
   ]
  },
  {
   "cell_type": "markdown",
   "id": "d893902b",
   "metadata": {},
   "source": [
    "## 1. Load and Inspect: Load the telecom_churn.csv dataset."
   ]
  },
  {
   "cell_type": "code",
   "execution_count": 3,
   "id": "1a555b02",
   "metadata": {},
   "outputs": [],
   "source": [
    "df = pd.read_csv('synthetic_telco_churn.csv')"
   ]
  },
  {
   "cell_type": "code",
   "execution_count": 4,
   "id": "99ddf859",
   "metadata": {},
   "outputs": [
    {
     "data": {
      "text/plain": [
       "Index(['customerID', 'SeniorCitizen', 'tenure', 'MonthlyCharges',\n",
       "       'TotalCharges', 'gender', 'Partner', 'Dependents', 'PhoneService',\n",
       "       'MultipleLines', 'InternetService', 'OnlineSecurity', 'OnlineBackup',\n",
       "       'DeviceProtection', 'TechSupport', 'StreamingTV', 'StreamingMovies',\n",
       "       'Contract', 'PaperlessBilling', 'PaymentMethod', 'Churn'],\n",
       "      dtype='object')"
      ]
     },
     "execution_count": 4,
     "metadata": {},
     "output_type": "execute_result"
    }
   ],
   "source": [
    "df.columns"
   ]
  },
  {
   "cell_type": "code",
   "execution_count": 5,
   "id": "90293115",
   "metadata": {},
   "outputs": [
    {
     "name": "stdout",
     "output_type": "stream",
     "text": [
      "No count: 5161, Yes count: 1882\n"
     ]
    }
   ],
   "source": [
    "# Give class is imbalance.\n",
    "No_Churn = df[df['Churn'] == 'No']['Churn'].count()\n",
    "Yes_Churn = df[df['Churn'] == 'Yes']['Churn'].count()\n",
    "print(f'No count: {No_Churn}, Yes count: {Yes_Churn}')"
   ]
  },
  {
   "cell_type": "code",
   "execution_count": 6,
   "id": "b922143c",
   "metadata": {},
   "outputs": [
    {
     "name": "stdout",
     "output_type": "stream",
     "text": [
      "<class 'pandas.core.frame.DataFrame'>\n",
      "RangeIndex: 7043 entries, 0 to 7042\n",
      "Data columns (total 21 columns):\n",
      " #   Column            Non-Null Count  Dtype  \n",
      "---  ------            --------------  -----  \n",
      " 0   customerID        7043 non-null   object \n",
      " 1   SeniorCitizen     7043 non-null   int64  \n",
      " 2   tenure            7043 non-null   int64  \n",
      " 3   MonthlyCharges    7043 non-null   float64\n",
      " 4   TotalCharges      7043 non-null   float64\n",
      " 5   gender            7043 non-null   object \n",
      " 6   Partner           7043 non-null   object \n",
      " 7   Dependents        7043 non-null   object \n",
      " 8   PhoneService      7043 non-null   object \n",
      " 9   MultipleLines     7043 non-null   object \n",
      " 10  InternetService   7043 non-null   object \n",
      " 11  OnlineSecurity    7043 non-null   object \n",
      " 12  OnlineBackup      7043 non-null   object \n",
      " 13  DeviceProtection  7043 non-null   object \n",
      " 14  TechSupport       7043 non-null   object \n",
      " 15  StreamingTV       7043 non-null   object \n",
      " 16  StreamingMovies   7043 non-null   object \n",
      " 17  Contract          7043 non-null   object \n",
      " 18  PaperlessBilling  7043 non-null   object \n",
      " 19  PaymentMethod     7043 non-null   object \n",
      " 20  Churn             7043 non-null   object \n",
      "dtypes: float64(2), int64(2), object(17)\n",
      "memory usage: 1.1+ MB\n"
     ]
    }
   ],
   "source": [
    "df.info()"
   ]
  },
  {
   "cell_type": "markdown",
   "id": "bf5e73e7",
   "metadata": {},
   "source": [
    "### 2. Initial Cleaning: \n",
    "### ○ The TotalCharges column is loaded as an object type due \n",
    "### to some non-numeric entries and has missing values. \n",
    "### Investigate and convert it to a numeric type, deciding on a \n",
    "### strategy to handle any errors that arise during conversion. \n",
    "### ○ Identify all columns with missing values and analyze the \n",
    "### extent of the missing data."
   ]
  },
  {
   "cell_type": "code",
   "execution_count": 7,
   "id": "91a8462f",
   "metadata": {},
   "outputs": [],
   "source": [
    "df['TotalCharges'] = pd.to_numeric(df['TotalCharges'],errors='coerce')"
   ]
  },
  {
   "cell_type": "code",
   "execution_count": 8,
   "id": "41f3fb89",
   "metadata": {},
   "outputs": [
    {
     "data": {
      "text/plain": [
       "customerID          0\n",
       "SeniorCitizen       0\n",
       "tenure              0\n",
       "MonthlyCharges      0\n",
       "TotalCharges        0\n",
       "gender              0\n",
       "Partner             0\n",
       "Dependents          0\n",
       "PhoneService        0\n",
       "MultipleLines       0\n",
       "InternetService     0\n",
       "OnlineSecurity      0\n",
       "OnlineBackup        0\n",
       "DeviceProtection    0\n",
       "TechSupport         0\n",
       "StreamingTV         0\n",
       "StreamingMovies     0\n",
       "Contract            0\n",
       "PaperlessBilling    0\n",
       "PaymentMethod       0\n",
       "Churn               0\n",
       "dtype: int64"
      ]
     },
     "execution_count": 8,
     "metadata": {},
     "output_type": "execute_result"
    }
   ],
   "source": [
    "df.isnull().sum()"
   ]
  },
  {
   "cell_type": "code",
   "execution_count": 9,
   "id": "eada42f4",
   "metadata": {},
   "outputs": [],
   "source": [
    "categorical_cols = df.select_dtypes(include=['object']).columns.drop('Churn','customerID',)\n",
    "numerical_cols = df.select_dtypes(include=['int64','float64']).columns\n",
    "service = ['PhoneService','MultipleLines','InternetService','OnlineSecurity','OnlineBackup','DeviceProtection','TechSupport','StreamingTV','StreamingMovies']"
   ]
  },
  {
   "cell_type": "code",
   "execution_count": 10,
   "id": "4f16b52d",
   "metadata": {},
   "outputs": [
    {
     "name": "stdout",
     "output_type": "stream",
     "text": [
      "16\n"
     ]
    }
   ],
   "source": [
    "print(len(categorical_cols))"
   ]
  },
  {
   "cell_type": "code",
   "execution_count": 11,
   "id": "893e2878",
   "metadata": {},
   "outputs": [
    {
     "data": {
      "text/plain": [
       "Index(['customerID', 'gender', 'Partner', 'Dependents', 'PhoneService',\n",
       "       'MultipleLines', 'InternetService', 'OnlineSecurity', 'OnlineBackup',\n",
       "       'DeviceProtection', 'TechSupport', 'StreamingTV', 'StreamingMovies',\n",
       "       'Contract', 'PaperlessBilling', 'PaymentMethod'],\n",
       "      dtype='object')"
      ]
     },
     "execution_count": 11,
     "metadata": {},
     "output_type": "execute_result"
    }
   ],
   "source": [
    "categorical_cols"
   ]
  },
  {
   "cell_type": "markdown",
   "id": "fd9e508a",
   "metadata": {},
   "source": [
    "### 3. Data Visualization: \n",
    "### ○ Create insightful visualizations to understand the \n",
    "### relationships between features and the Churn target. \n",
    "### ○ Generate at least one plot showing the distribution of a \n",
    "### numerical feature for churned vs. non-churned customers \n",
    "### (e.g., a histogram or KDE plot). \n",
    "### ○ Generate at least one plot showing the relationship \n",
    "### between a categorical feature and churn (e.g., a count \n",
    "### plot). \n",
    "### ○ Summarize your key findings from the EDA in a \n",
    "### markdown cell. "
   ]
  },
  {
   "cell_type": "code",
   "execution_count": 12,
   "id": "10466375",
   "metadata": {},
   "outputs": [
    {
     "data": {
      "image/png": "[encoded data removed]",
      "text/plain": [
       "<Figure size 1440x1440 with 16 Axes>"
      ]
     },
     "metadata": {
      "needs_background": "light"
     },
     "output_type": "display_data"
    }
   ],
   "source": [
    "# length = len(categorical_cols)\n",
    "fig,ax = plt.subplots(nrows= 8,ncols=2,figsize=(20,20))\n",
    "\n",
    "# for i,cols in enumerate(categorical_cols)\n",
    "sns.countplot(data=df,x='gender',hue='Churn',ax=ax[0,0])\n",
    "sns.countplot(data=df,x='Partner',hue='Churn',ax=ax[0,1])\n",
    "sns.countplot(data=df,x='Dependents',hue='Churn',ax=ax[1,0])\n",
    "sns.countplot(data=df,x='PhoneService',hue='Churn',ax=ax[1,1])\n",
    "sns.countplot(data=df,x='MultipleLines',hue='Churn',ax=ax[2,0])\n",
    "sns.countplot(data=df,x='InternetService',hue='Churn',ax=ax[2,1])\n",
    "sns.countplot(data=df,x='OnlineSecurity',hue='Churn',ax=ax[3,0])\n",
    "sns.countplot(data=df,x='OnlineBackup',hue='Churn',ax=ax[3,1])\n",
    "sns.countplot(data=df,x='DeviceProtection',hue='Churn',ax=ax[4,0])\n",
    "sns.countplot(data=df,x='TechSupport',hue='Churn',ax=ax[4,1])\n",
    "sns.countplot(data=df,x='StreamingTV',hue='Churn',ax=ax[5,0])\n",
    "sns.countplot(data=df,x='StreamingMovies',hue='Churn',ax=ax[5,1])\n",
    "sns.countplot(data=df,x='Contract',hue='Churn',ax=ax[6,0])\n",
    "sns.countplot(data=df,x='PaperlessBilling',hue='Churn',ax=ax[6,1])\n",
    "sns.countplot(data=df,x='PaymentMethod',hue='Churn',ax=ax[7,0])\n",
    "\n",
    "plt.tight_layout()\n",
    "plt.show()"
   ]
  },
  {
   "cell_type": "code",
   "execution_count": 13,
   "id": "5e8149aa",
   "metadata": {},
   "outputs": [
    {
     "data": {
      "text/plain": [
       "Index(['SeniorCitizen', 'tenure', 'MonthlyCharges', 'TotalCharges'], dtype='object')"
      ]
     },
     "execution_count": 13,
     "metadata": {},
     "output_type": "execute_result"
    }
   ],
   "source": [
    "numerical_cols"
   ]
  },
  {
   "cell_type": "code",
   "execution_count": 14,
   "id": "7ed3cad9",
   "metadata": {},
   "outputs": [],
   "source": [
    "# pip install --upgrade seaborn"
   ]
  },
  {
   "cell_type": "code",
   "execution_count": 15,
   "id": "63a0251f",
   "metadata": {},
   "outputs": [
    {
     "data": {
      "image/png": "[encoded data removed]",
      "text/plain": [
       "<Figure size 720x432 with 4 Axes>"
      ]
     },
     "metadata": {
      "needs_background": "light"
     },
     "output_type": "display_data"
    },
    {
     "data": {
      "image/png": "[encoded data removed]",
      "text/plain": [
       "<Figure size 720x432 with 4 Axes>"
      ]
     },
     "metadata": {
      "needs_background": "light"
     },
     "output_type": "display_data"
    }
   ],
   "source": [
    "fig,ax_1 = plt.subplots(nrows=2,ncols=2,figsize=(10,6))\n",
    "\n",
    "df_churn = df[df['Churn'] == 'Yes']\n",
    "sns.histplot(data=df_churn,x='tenure',hue='Churn',bins=20,ax=ax_1[0,0],multiple='dodge')\n",
    "sns.histplot(data=df_churn,x='MonthlyCharges',hue='Churn',bins=20,ax=ax_1[0,1],multiple='dodge')\n",
    "sns.histplot(data=df_churn,x='TotalCharges',hue='Churn',bins=20,ax=ax_1[1,0],multiple='dodge')\n",
    "\n",
    "fig,ax_2 = plt.subplots(nrows=2,ncols=2,figsize=(10,6))\n",
    "df_nochurn = df[df['Churn'] == 'No']\n",
    "sns.histplot(data=df_nochurn,x='tenure',hue='Churn',bins=20,ax=ax_2[0,0],multiple='dodge')\n",
    "sns.histplot(data=df_nochurn,x='MonthlyCharges',hue='Churn',bins=20,ax=ax_2[0,1],multiple='dodge')\n",
    "sns.histplot(data=df_nochurn,x='TotalCharges',hue='Churn',bins=20,ax=ax_2[1,0],multiple='dodge')\n",
    "\n",
    "plt.tight_layout()\n",
    "plt.show()"
   ]
  },
  {
   "cell_type": "markdown",
   "id": "4b9f061f",
   "metadata": {},
   "source": [
    "# Task 2: Feature Engineering\n",
    "### Create at least two new, meaningful features from the existing data. \n",
    "### Justify why you believe these features might improve model \n",
    "### performance."
   ]
  },
  {
   "cell_type": "code",
   "execution_count": 16,
   "id": "69f3e9bf",
   "metadata": {},
   "outputs": [],
   "source": [
    "df[\"SeniorAlone\"] = (\n",
    "            (df['SeniorCitizen'] == 1) &\n",
    "            (df['Partner'] == 'No') &\n",
    "            (df['Dependents'] == 'No')\n",
    "        ).astype(int)"
   ]
  },
  {
   "cell_type": "code",
   "execution_count": 17,
   "id": "c9bc3941",
   "metadata": {},
   "outputs": [],
   "source": [
    "df['ServiceCount'] = df[service].apply(lambda X : (X == 'Yes').sum(),axis = 1)"
   ]
  },
  {
   "cell_type": "code",
   "execution_count": 18,
   "id": "124c1d01",
   "metadata": {},
   "outputs": [
    {
     "data": {
      "text/html": [
       "<div>\n",
       "<style scoped>\n",
       "    .dataframe tbody tr th:only-of-type {\n",
       "        vertical-align: middle;\n",
       "    }\n",
       "\n",
       "    .dataframe tbody tr th {\n",
       "        vertical-align: top;\n",
       "    }\n",
       "\n",
       "    .dataframe thead th {\n",
       "        text-align: right;\n",
       "    }\n",
       "</style>\n",
       "<table border=\"1\" class=\"dataframe\">\n",
       "  <thead>\n",
       "    <tr style=\"text-align: right;\">\n",
       "      <th></th>\n",
       "      <th>SeniorCitizen</th>\n",
       "      <th>Partner</th>\n",
       "      <th>Dependents</th>\n",
       "      <th>SeniorAlone</th>\n",
       "      <th>ServiceCount</th>\n",
       "    </tr>\n",
       "  </thead>\n",
       "  <tbody>\n",
       "    <tr>\n",
       "      <th>0</th>\n",
       "      <td>1</td>\n",
       "      <td>No</td>\n",
       "      <td>No</td>\n",
       "      <td>1</td>\n",
       "      <td>4</td>\n",
       "    </tr>\n",
       "    <tr>\n",
       "      <th>1</th>\n",
       "      <td>0</td>\n",
       "      <td>Yes</td>\n",
       "      <td>No</td>\n",
       "      <td>0</td>\n",
       "      <td>3</td>\n",
       "    </tr>\n",
       "    <tr>\n",
       "      <th>2</th>\n",
       "      <td>0</td>\n",
       "      <td>Yes</td>\n",
       "      <td>No</td>\n",
       "      <td>0</td>\n",
       "      <td>4</td>\n",
       "    </tr>\n",
       "    <tr>\n",
       "      <th>3</th>\n",
       "      <td>0</td>\n",
       "      <td>No</td>\n",
       "      <td>No</td>\n",
       "      <td>0</td>\n",
       "      <td>2</td>\n",
       "    </tr>\n",
       "    <tr>\n",
       "      <th>4</th>\n",
       "      <td>1</td>\n",
       "      <td>No</td>\n",
       "      <td>Yes</td>\n",
       "      <td>0</td>\n",
       "      <td>3</td>\n",
       "    </tr>\n",
       "    <tr>\n",
       "      <th>...</th>\n",
       "      <td>...</td>\n",
       "      <td>...</td>\n",
       "      <td>...</td>\n",
       "      <td>...</td>\n",
       "      <td>...</td>\n",
       "    </tr>\n",
       "    <tr>\n",
       "      <th>7038</th>\n",
       "      <td>0</td>\n",
       "      <td>No</td>\n",
       "      <td>Yes</td>\n",
       "      <td>0</td>\n",
       "      <td>1</td>\n",
       "    </tr>\n",
       "    <tr>\n",
       "      <th>7039</th>\n",
       "      <td>1</td>\n",
       "      <td>Yes</td>\n",
       "      <td>Yes</td>\n",
       "      <td>0</td>\n",
       "      <td>4</td>\n",
       "    </tr>\n",
       "    <tr>\n",
       "      <th>7040</th>\n",
       "      <td>0</td>\n",
       "      <td>No</td>\n",
       "      <td>No</td>\n",
       "      <td>0</td>\n",
       "      <td>2</td>\n",
       "    </tr>\n",
       "    <tr>\n",
       "      <th>7041</th>\n",
       "      <td>0</td>\n",
       "      <td>No</td>\n",
       "      <td>No</td>\n",
       "      <td>0</td>\n",
       "      <td>4</td>\n",
       "    </tr>\n",
       "    <tr>\n",
       "      <th>7042</th>\n",
       "      <td>1</td>\n",
       "      <td>Yes</td>\n",
       "      <td>Yes</td>\n",
       "      <td>0</td>\n",
       "      <td>2</td>\n",
       "    </tr>\n",
       "  </tbody>\n",
       "</table>\n",
       "<p>7043 rows × 5 columns</p>\n",
       "</div>"
      ],
      "text/plain": [
       "      SeniorCitizen Partner Dependents  SeniorAlone  ServiceCount\n",
       "0                 1      No         No            1             4\n",
       "1                 0     Yes         No            0             3\n",
       "2                 0     Yes         No            0             4\n",
       "3                 0      No         No            0             2\n",
       "4                 1      No        Yes            0             3\n",
       "...             ...     ...        ...          ...           ...\n",
       "7038              0      No        Yes            0             1\n",
       "7039              1     Yes        Yes            0             4\n",
       "7040              0      No         No            0             2\n",
       "7041              0      No         No            0             4\n",
       "7042              1     Yes        Yes            0             2\n",
       "\n",
       "[7043 rows x 5 columns]"
      ]
     },
     "execution_count": 18,
     "metadata": {},
     "output_type": "execute_result"
    }
   ],
   "source": [
    "df[['SeniorCitizen','Partner','Dependents','SeniorAlone','ServiceCount']]"
   ]
  },
  {
   "cell_type": "code",
   "execution_count": 19,
   "id": "6e7a754d",
   "metadata": {},
   "outputs": [
    {
     "name": "stdout",
     "output_type": "stream",
     "text": [
      "<class 'pandas.core.frame.DataFrame'>\n",
      "RangeIndex: 7043 entries, 0 to 7042\n",
      "Data columns (total 23 columns):\n",
      " #   Column            Non-Null Count  Dtype  \n",
      "---  ------            --------------  -----  \n",
      " 0   customerID        7043 non-null   object \n",
      " 1   SeniorCitizen     7043 non-null   int64  \n",
      " 2   tenure            7043 non-null   int64  \n",
      " 3   MonthlyCharges    7043 non-null   float64\n",
      " 4   TotalCharges      7043 non-null   float64\n",
      " 5   gender            7043 non-null   object \n",
      " 6   Partner           7043 non-null   object \n",
      " 7   Dependents        7043 non-null   object \n",
      " 8   PhoneService      7043 non-null   object \n",
      " 9   MultipleLines     7043 non-null   object \n",
      " 10  InternetService   7043 non-null   object \n",
      " 11  OnlineSecurity    7043 non-null   object \n",
      " 12  OnlineBackup      7043 non-null   object \n",
      " 13  DeviceProtection  7043 non-null   object \n",
      " 14  TechSupport       7043 non-null   object \n",
      " 15  StreamingTV       7043 non-null   object \n",
      " 16  StreamingMovies   7043 non-null   object \n",
      " 17  Contract          7043 non-null   object \n",
      " 18  PaperlessBilling  7043 non-null   object \n",
      " 19  PaymentMethod     7043 non-null   object \n",
      " 20  Churn             7043 non-null   object \n",
      " 21  SeniorAlone       7043 non-null   int32  \n",
      " 22  ServiceCount      7043 non-null   int64  \n",
      "dtypes: float64(2), int32(1), int64(3), object(17)\n",
      "memory usage: 1.2+ MB\n"
     ]
    }
   ],
   "source": [
    "df.info()"
   ]
  },
  {
   "cell_type": "code",
   "execution_count": 20,
   "id": "4f9333f0",
   "metadata": {},
   "outputs": [],
   "source": [
    "X = df.drop(columns = ['customerID','Churn'])\n",
    "y = df['Churn']"
   ]
  },
  {
   "cell_type": "code",
   "execution_count": 21,
   "id": "8b761e40",
   "metadata": {},
   "outputs": [
    {
     "data": {
      "text/plain": [
       "<bound method DataFrame.isna of       SeniorCitizen  tenure  MonthlyCharges  TotalCharges  gender Partner  \\\n",
       "0                 1      67           63.55       3068.60  Female      No   \n",
       "1                 0      62           59.70        875.35  Female     Yes   \n",
       "2                 0      27           56.30         57.50  Female     Yes   \n",
       "3                 0      72          105.05       6885.75    Male      No   \n",
       "4                 1      45           60.05       1672.10  Female      No   \n",
       "...             ...     ...             ...           ...     ...     ...   \n",
       "7038              0       3           19.20        637.40  Female      No   \n",
       "7039              1      60           89.55       5645.80    Male     Yes   \n",
       "7040              0      36           20.40        268.40    Male      No   \n",
       "7041              0      28           81.95         64.55    Male      No   \n",
       "7042              1      13           96.15       5552.50  Female     Yes   \n",
       "\n",
       "     Dependents PhoneService     MultipleLines InternetService  ...  \\\n",
       "0            No          Yes               Yes     Fiber optic  ...   \n",
       "1            No          Yes  No phone service             DSL  ...   \n",
       "2            No          Yes                No             DSL  ...   \n",
       "3            No          Yes                No     Fiber optic  ...   \n",
       "4           Yes          Yes               Yes              No  ...   \n",
       "...         ...          ...               ...             ...  ...   \n",
       "7038        Yes          Yes                No     Fiber optic  ...   \n",
       "7039        Yes           No               Yes     Fiber optic  ...   \n",
       "7040         No           No                No     Fiber optic  ...   \n",
       "7041         No          Yes               Yes             DSL  ...   \n",
       "7042        Yes          Yes  No phone service              No  ...   \n",
       "\n",
       "             OnlineBackup     DeviceProtection          TechSupport  \\\n",
       "0                      No                  Yes  No internet service   \n",
       "1                      No                   No                  Yes   \n",
       "2     No internet service                   No                  Yes   \n",
       "3                     Yes                   No                   No   \n",
       "4                      No                  Yes                   No   \n",
       "...                   ...                  ...                  ...   \n",
       "7038                   No                   No                   No   \n",
       "7039                  Yes                   No                  Yes   \n",
       "7040                  Yes                   No                  Yes   \n",
       "7041  No internet service                  Yes                   No   \n",
       "7042                   No  No internet service  No internet service   \n",
       "\n",
       "              StreamingTV      StreamingMovies        Contract  \\\n",
       "0     No internet service  No internet service        Two year   \n",
       "1                      No                   No        Two year   \n",
       "2                     Yes                   No        Two year   \n",
       "3                      No  No internet service  Month-to-month   \n",
       "4                      No  No internet service        Two year   \n",
       "...                   ...                  ...             ...   \n",
       "7038                   No                   No        Two year   \n",
       "7039                   No                   No  Month-to-month   \n",
       "7040                   No                   No  Month-to-month   \n",
       "7041  No internet service                  Yes        Two year   \n",
       "7042                  Yes                   No        One year   \n",
       "\n",
       "     PaperlessBilling              PaymentMethod SeniorAlone  ServiceCount  \n",
       "0                  No               Mailed check           1             4  \n",
       "1                 Yes               Mailed check           0             3  \n",
       "2                 Yes           Electronic check           0             4  \n",
       "3                 Yes           Electronic check           0             2  \n",
       "4                 Yes  Bank transfer (automatic)           0             3  \n",
       "...               ...                        ...         ...           ...  \n",
       "7038               No               Mailed check           0             1  \n",
       "7039              Yes               Mailed check           0             4  \n",
       "7040              Yes    Credit card (automatic)           0             2  \n",
       "7041              Yes    Credit card (automatic)           0             4  \n",
       "7042              Yes               Mailed check           0             2  \n",
       "\n",
       "[7043 rows x 21 columns]>"
      ]
     },
     "execution_count": 21,
     "metadata": {},
     "output_type": "execute_result"
    }
   ],
   "source": [
    "X.isna"
   ]
  },
  {
   "cell_type": "code",
   "execution_count": 22,
   "id": "f3df6d78",
   "metadata": {},
   "outputs": [
    {
     "data": {
      "text/plain": [
       "1.0079227879134052"
      ]
     },
     "execution_count": 22,
     "metadata": {},
     "output_type": "execute_result"
    }
   ],
   "source": [
    "X['TotalCharges'].skew()"
   ]
  },
  {
   "cell_type": "markdown",
   "id": "ced85008",
   "metadata": {},
   "source": [
    "# Task 3: Building the End-to-End Pipeline "
   ]
  },
  {
   "cell_type": "code",
   "execution_count": 23,
   "id": "3f7b3853",
   "metadata": {},
   "outputs": [],
   "source": [
    "cat_bin = ['gender','Partner','Dependents','PhoneService','PaperlessBilling']\n",
    "cat_onehot = ['PhoneService','MultipleLines','InternetService','OnlineSecurity','OnlineBackup','DeviceProtection','TechSupport','StreamingTV','StreamingMovies','Contract','PaymentMethod']\n",
    "numeric_cols = ['MonthlyCharges','ServiceCount','tenure']\n",
    "imputer_col = ['TotalCharges']"
   ]
  },
  {
   "cell_type": "code",
   "execution_count": 24,
   "id": "e089a7b6",
   "metadata": {},
   "outputs": [],
   "source": [
    "class Senior_CitizenAlone(BaseEstimator,TransformerMixin):\n",
    "    def fit(self,df,y=None):\n",
    "        return self\n",
    "\n",
    "    def transform(self,df):\n",
    "        df = df.copy()\n",
    "        df[\"SeniorAlone\"] = (\n",
    "            (df['SeniorCitizen'] == 1) &\n",
    "            (df['Partner'] == 'No') &\n",
    "            (df['Dependents'] == 'No')\n",
    "        ).astype(int)\n",
    "        return df"
   ]
  },
  {
   "cell_type": "code",
   "execution_count": 25,
   "id": "9cfe49fe",
   "metadata": {},
   "outputs": [],
   "source": [
    "class ServiceCount(BaseEstimator,TransformerMixin):\n",
    "    def __init__(self,service):\n",
    "        self.service = service\n",
    "    def fit(self,df,y=None):\n",
    "        return self\n",
    "    \n",
    "    def transform(self,df):\n",
    "        df = df.copy()\n",
    "        df['ServiceCount'] = df[service].apply(lambda X : (X == 'Yes').sum(),axis = 1)\n",
    "        return df"
   ]
  },
  {
   "cell_type": "code",
   "execution_count": 26,
   "id": "fe27d4aa",
   "metadata": {},
   "outputs": [],
   "source": [
    "feature_engineering = Pipeline(steps=[\n",
    "    ('senior_alone',Senior_CitizenAlone()),\n",
    "    ('service_count',ServiceCount(service = service))\n",
    "])\n",
    "\n",
    "simple_imputer = Pipeline(steps=[\n",
    "    ('imputer',SimpleImputer(strategy='mean')),\n",
    "    ('scaler', StandardScaler())\n",
    "])\n",
    "\n",
    "cat_one = Pipeline(steps = [\n",
    "    ('imputer',SimpleImputer(strategy='most_frequent')),\n",
    "    ('cat_col',OneHotEncoder(handle_unknown='ignore'))\n",
    "])\n",
    "\n",
    "cat_binary = Pipeline(steps = [\n",
    "    ('imputer',SimpleImputer(strategy='most_frequent')),\n",
    "    ('cat_bin',OneHotEncoder(handle_unknown='ignore',drop=\"if_binary\"))\n",
    "])\n",
    "\n",
    "num_scaler = Pipeline(steps = [\n",
    "    ('scaler', StandardScaler())\n",
    "])\n",
    "\n",
    "preprocessor = ColumnTransformer(transformers=[\n",
    "    ('num',num_scaler,numeric_cols),\n",
    "    ('impute',simple_imputer,imputer_col),\n",
    "    ('onehot_binary',cat_binary,cat_bin),\n",
    "    ('onehot',cat_one,cat_onehot)\n",
    "])\n",
    "\n",
    "models = {\n",
    "    'LogisticRegression' : LogisticRegression(max_iter = 1000),\n",
    "    'RandomForestClassifier': RandomForestClassifier(n_estimators=100,random_state=42),\n",
    "    'GradientBoostingClassifier': GradientBoostingClassifier(n_estimators=100,random_state=42)\n",
    "}\n",
    "\n",
    "X_train,X_test,y_train,y_test = train_test_split(X,y,test_size=.3,random_state=42)"
   ]
  },
  {
   "cell_type": "code",
   "execution_count": 27,
   "id": "9ee703af",
   "metadata": {
    "scrolled": false
   },
   "outputs": [
    {
     "name": "stdout",
     "output_type": "stream",
     "text": [
      "Result\n",
      "F1_score: 0.6132412166444166\n",
      "Precision_score: 0.5298021017436737\n",
      "Recall_score: 0.7278750591575959\n",
      "ROC_AUC: 0.5040312093628089\n",
      "--------------------------------------------------------------------------------------------------------\n",
      "Result\n",
      "F1_score: 0.6138225271021296\n",
      "Precision_score: 0.590118937008732\n",
      "Recall_score: 0.7255087553241836\n",
      "ROC_AUC: 0.5102120201277774\n",
      "--------------------------------------------------------------------------------------------------------\n",
      "Result\n",
      "F1_score: 0.6172195217908639\n",
      "Precision_score: 0.626323302556862\n",
      "Recall_score: 0.7255087553241836\n",
      "ROC_AUC: 0.4984972013343133\n",
      "--------------------------------------------------------------------------------------------------------\n"
     ]
    }
   ],
   "source": [
    "for name,model in models.items():\n",
    "    pipeline = Pipeline(steps=[\n",
    "        ('feature',feature_engineering),\n",
    "        ('preprocessor',preprocessor),\n",
    "        ('classifier',model)\n",
    "    ])\n",
    "    \n",
    "    pipeline.fit(X_train,y_train)\n",
    "    y_predicted = pipeline.predict(X_test)\n",
    "    y_proba = pipeline.predict_proba(X_test)[:, 1]\n",
    "    \n",
    "    print(\"Result\")\n",
    "    print(f\"F1_score: {f1_score(y_test,y_predicted,average='weighted')}\")\n",
    "    print(f\"Precision_score: {precision_score(y_test,y_predicted,average='weighted')}\")\n",
    "    print(f\"Recall_score: {recall_score(y_test,y_predicted,average='weighted')}\")\n",
    "    print(f\"ROC_AUC: {roc_auc_score(y_test,y_proba)}\")\n",
    "    print(\"--------------------------------------------------------------------------------------------------------\")"
   ]
  },
  {
   "cell_type": "markdown",
   "id": "97f03f1f",
   "metadata": {},
   "source": [
    "# Task 4: Model Selection and Hyperparameter Tuning"
   ]
  },
  {
   "cell_type": "code",
   "execution_count": 28,
   "id": "50361c81",
   "metadata": {},
   "outputs": [
    {
     "name": "stdout",
     "output_type": "stream",
     "text": [
      "Fitting 3 folds for each of 8 candidates, totalling 24 fits\n",
      "Result:\n",
      "F1_score: 0.6132412166444166\n",
      "Precision_score: 0.5298021017436737\n",
      "Recall_score: 0.7278750591575959\n",
      "ROC_AUC: 0.5033979759145135\n"
     ]
    }
   ],
   "source": [
    "gd_gradient =  {\n",
    "    'classifier__C': [0.01, 0.1, 1, 10],\n",
    "    'classifier__solver': ['lbfgs', 'liblinear']\n",
    "}\n",
    "\n",
    "pipeline = Pipeline(steps=[\n",
    "    ('feature',feature_engineering),\n",
    "    ('preprocessor',preprocessor),\n",
    "    ('classifier',LogisticRegression())\n",
    "])\n",
    "\n",
    "gd = GridSearchCV(pipeline,gd_gradient,n_jobs=-1,cv=3,verbose=3,scoring='f1_weighted')\n",
    "gd.fit(X_train,y_train)\n",
    "y_predicted = gd.predict(X_test)\n",
    "y_proba = gd.predict_proba(X_test)[:, 1]\n",
    "\n",
    "print(\"Result:\")\n",
    "print(f\"F1_score: {f1_score(y_test,y_predicted,average='weighted')}\")\n",
    "print(f\"Precision_score: {precision_score(y_test,y_predicted,average='weighted')}\")\n",
    "print(f\"Recall_score: {recall_score(y_test,y_predicted,average='weighted')}\")\n",
    "print(f\"ROC_AUC: {roc_auc_score(y_test,y_proba)}\")"
   ]
  },
  {
   "cell_type": "markdown",
   "id": "8b33a97f",
   "metadata": {},
   "source": [
    "# Imbalance Class\n",
    "#### When the classes were imbalanced the logstic regression performed the best, as random forest anf gradient boosting tend to look for the positive class and in logistic regression we are taking the probability so it is not bothered by class.So, we need to handle class imbalance as RandomForest and logistic regression are performing as per the need."
   ]
  },
  {
   "cell_type": "markdown",
   "id": "81c8c3fb",
   "metadata": {},
   "source": [
    "# Task 5: Handling Class Imbalance"
   ]
  },
  {
   "cell_type": "code",
   "execution_count": 29,
   "id": "86b05dce",
   "metadata": {},
   "outputs": [],
   "source": [
    "# pip install imbalanced-learn"
   ]
  },
  {
   "cell_type": "code",
   "execution_count": 30,
   "id": "a2aad1d5",
   "metadata": {},
   "outputs": [],
   "source": [
    "import imblearn.pipeline as pl \n",
    "from imblearn.over_sampling import SMOTE"
   ]
  },
  {
   "cell_type": "code",
   "execution_count": 31,
   "id": "8b0fd71f",
   "metadata": {},
   "outputs": [
    {
     "name": "stdout",
     "output_type": "stream",
     "text": [
      "Result\n",
      "F1_Score: 0.5424482790068443\n",
      "Precision_score: 0.6117194004371985\n",
      "Recall_score: 0.5158542356838618\n",
      "-----------------------------------------------------------------------------------------------------------------\n",
      "Result\n",
      "F1_Score: 0.6121873128441927\n",
      "Precision_score: 0.5689488974331607\n",
      "Recall_score: 0.7188831045906294\n",
      "-----------------------------------------------------------------------------------------------------------------\n",
      "Result\n",
      "F1_Score: 0.6129574153160133\n",
      "Precision_score: 0.5683643508221516\n",
      "Recall_score: 0.7255087553241836\n",
      "-----------------------------------------------------------------------------------------------------------------\n"
     ]
    }
   ],
   "source": [
    "resample = SMOTE(random_state=42)\n",
    "\n",
    "feature_engineering = pl.Pipeline(steps=[\n",
    "    ('senior_alone',Senior_CitizenAlone()),\n",
    "    ('service_count',ServiceCount(service = service))\n",
    "])\n",
    "\n",
    "simple_imputer = pl.Pipeline(steps=[\n",
    "    ('imputer',SimpleImputer(strategy='mean')),\n",
    "    ('scaler', StandardScaler())\n",
    "])\n",
    "\n",
    "cat_one = pl.Pipeline(steps = [\n",
    "    ('imputer',SimpleImputer(strategy='most_frequent')),\n",
    "    ('cat_col',OneHotEncoder(handle_unknown='ignore'))\n",
    "])\n",
    "\n",
    "cat_binary = pl.Pipeline(steps = [\n",
    "    ('imputer',SimpleImputer(strategy='most_frequent')),\n",
    "    ('cat_bin',OneHotEncoder(handle_unknown='ignore',drop=\"if_binary\"))\n",
    "])\n",
    "\n",
    "num_scaler = pl.Pipeline(steps = [\n",
    "    ('scaler', StandardScaler())\n",
    "])\n",
    "\n",
    "preprocessor = ColumnTransformer(transformers=[\n",
    "    ('num',num_scaler,numeric_cols),\n",
    "    ('impute',simple_imputer,imputer_col),\n",
    "    ('onehot_binary',cat_binary,cat_bin),\n",
    "    ('onehot',cat_one,cat_onehot)\n",
    "])\n",
    "\n",
    "models = {\n",
    "    'LogisticRegression' : LogisticRegression(max_iter = 1000),\n",
    "    'RandomForestClassifier': RandomForestClassifier(n_estimators=100,random_state=42),\n",
    "    'GradientBoostingClassifier': GradientBoostingClassifier(n_estimators=100,random_state=42)\n",
    "}\n",
    "\n",
    "X_train,X_test,y_train,y_test = train_test_split(X,y,test_size=.3,random_state=42)\n",
    "\n",
    "for name,model in models.items():\n",
    "    pipeline = pl.Pipeline(steps=[\n",
    "        ('senior_alone',Senior_CitizenAlone()),\n",
    "        ('service_count',ServiceCount(service = service)),\n",
    "        ('preprocessor',preprocessor),\n",
    "        ('resampler',resample),\n",
    "        ('classifier',model)\n",
    "    ])\n",
    "    \n",
    "    pipeline.fit(X_train,y_train)\n",
    "    y_predicted = pipeline.predict(X_test)\n",
    "    y_proba = pipeline.predict_proba(X_test)[:, 1]\n",
    "    \n",
    "    print(\"Result\")\n",
    "    print(f\"F1_Score: {f1_score(y_test,y_predicted,average='weighted')}\")\n",
    "    print(f\"Precision_score: {precision_score(y_test,y_predicted,average='weighted')}\")\n",
    "    print(f\"Recall_score: {recall_score(y_test,y_predicted,average='weighted')}\")\n",
    "    print(\"-----------------------------------------------------------------------------------------------------------------\")"
   ]
  },
  {
   "cell_type": "markdown",
   "id": "71761aa8",
   "metadata": {},
   "source": [
    "# Analysis for the Score\n",
    "#### After applying the resample on the dataset, Gradient Boosting and Random Forest are working correctly as needed, we can see that the F1_score for the logistic regression also dropped.\n",
    "\n",
    "#### As the data is not imbalanced we see the Recall for the logistic regression has also dropped as it may not simply predict the majoritt class.(If the class is imbalance then the model may predict the majority of the class and we may get high accuracy with low precision and low recall.)\n",
    "\n",
    "#### So ,I have applied SMOTE which keeps the majoirty data as it is,but generate the synthetic data for the minority class."
   ]
  },
  {
   "cell_type": "code",
   "execution_count": 32,
   "id": "a306887a",
   "metadata": {},
   "outputs": [
    {
     "name": "stdout",
     "output_type": "stream",
     "text": [
      "Fitting 3 folds for each of 12 candidates, totalling 36 fits\n",
      "Result:\n",
      "F1_score: 0.6209881430757064\n",
      "Precision_score: 0.5992068505102032\n",
      "Recall_score: 0.7037387600567913\n"
     ]
    }
   ],
   "source": [
    "gd_gradient =  {\n",
    "    'classifier__n_estimators': [100,500],\n",
    "    'classifier__max_depth' : [3,5],\n",
    "    'classifier__learning_rate' : [.01,.1,.2]\n",
    "}\n",
    "\n",
    "pipeline = pl.Pipeline(steps=[\n",
    "    ('senior_alone',Senior_CitizenAlone()),\n",
    "    ('service_count',ServiceCount(service = service)),\n",
    "    ('preprocessor',preprocessor),\n",
    "    ('resampler',resample),\n",
    "    ('classifier',GradientBoostingClassifier())\n",
    "])\n",
    "\n",
    "gd = GridSearchCV(pipeline,gd_gradient,n_jobs=-1,cv=3,verbose=3,scoring='f1_weighted')\n",
    "gd.fit(X_train,y_train)\n",
    "y_predicted = gd.predict(X_test)\n",
    "\n",
    "print(\"Result:\")\n",
    "print(f\"F1_score: {f1_score(y_test,y_predicted,average='weighted')}\")\n",
    "print(f\"Precision_score: {precision_score(y_test,y_predicted,average='weighted')}\")\n",
    "print(f\"Recall_score: {recall_score(y_test,y_predicted,average='weighted')}\")"
   ]
  },
  {
   "cell_type": "markdown",
   "id": "61f499bd",
   "metadata": {},
   "source": [
    "## Task 6: Final Evaluation and Interpretation \n",
    "## 1. Test Set Evaluation: Evaluate your final, tuned pipeline (with \n",
    "## the imbalance handling) on the held-out test set. \n",
    "## 2. Metrics Report: Report the following metrics: Precision, \n",
    "## Recall, F1-Score, and the ROC AUC score. Also, display the \n",
    "## Classification Report and Confusion Matrix. \n",
    "## 3. Interpretation: \n",
    "## ○ Analyze the confusion matrix. In the context of customer \n",
    "## churn, what is the business cost of a False Positive versus \n",
    "## a False Negative? Which one is worse? \n",
    "## ○ If your final model was a tree-based ensemble (like \n",
    "## Random Forest or Gradient Boosting), extract and \n",
    "## visualize the top 10 most important features. Discuss \n",
    "## what these features tell you about the main drivers of \n",
    "## customer churn."
   ]
  },
  {
   "cell_type": "code",
   "execution_count": 33,
   "id": "ad5f5040",
   "metadata": {},
   "outputs": [
    {
     "data": {
      "text/plain": [
       "Text(0.5, 1.0, 'Confusion Matrix for GradientBoostingClassifier')"
      ]
     },
     "execution_count": 33,
     "metadata": {},
     "output_type": "execute_result"
    },
    {
     "data": {
      "image/png": "[encoded data removed]",
      "text/plain": [
       "<Figure size 432x288 with 2 Axes>"
      ]
     },
     "metadata": {
      "needs_background": "light"
     },
     "output_type": "display_data"
    }
   ],
   "source": [
    "cm = confusion_matrix(y_test,y_predicted, labels = gd.classes_)\n",
    "disp = ConfusionMatrixDisplay(confusion_matrix = cm,display_labels = gd.classes_)\n",
    "disp.plot(cmap=\"Blues\")\n",
    "plt.title(f\"Confusion Matrix for {name}\")"
   ]
  },
  {
   "cell_type": "markdown",
   "id": "07b5cecf",
   "metadata": {},
   "source": [
    "# Analysis for Confusion Matrix\n",
    "#### True_Positive = Customers correctly predicted as churning\n",
    "#### True_Negative = Customer predicted churning but actually stayed\n",
    "#### False_Positive = Customer correctly predicted as not churning\n",
    "#### False_Negative = Customer predicted not churning but actually churned\n",
    "\n",
    "#### Bussiness Cost:\n",
    "#### False_Positive - These more need as company need to retain the customer by offering them some attractive offers.\n",
    "#### False_negative - These is actually harming the company as its states that the customer is not churning but it has churned in fact.\n",
    "\n",
    "#### Which one is the Worst?\n",
    "#### Actually, False_Negative is the worst."
   ]
  },
  {
   "cell_type": "code",
   "execution_count": 34,
   "id": "11232eb9",
   "metadata": {},
   "outputs": [
    {
     "data": {
      "text/plain": [
       "ColumnTransformer(transformers=[('num',\n",
       "                                 Pipeline(steps=[('scaler', StandardScaler())]),\n",
       "                                 ['MonthlyCharges', 'ServiceCount', 'tenure']),\n",
       "                                ('impute',\n",
       "                                 Pipeline(steps=[('imputer', SimpleImputer()),\n",
       "                                                 ('scaler', StandardScaler())]),\n",
       "                                 ['TotalCharges']),\n",
       "                                ('onehot_binary',\n",
       "                                 Pipeline(steps=[('imputer',\n",
       "                                                  SimpleImputer(strategy='most_frequent')),\n",
       "                                                 ('cat_bin',\n",
       "                                                  OneHotEncoder(drop='if_...\n",
       "                                 ['gender', 'Partner', 'Dependents',\n",
       "                                  'PhoneService', 'PaperlessBilling']),\n",
       "                                ('onehot',\n",
       "                                 Pipeline(steps=[('imputer',\n",
       "                                                  SimpleImputer(strategy='most_frequent')),\n",
       "                                                 ('cat_col',\n",
       "                                                  OneHotEncoder(handle_unknown='ignore'))]),\n",
       "                                 ['PhoneService', 'MultipleLines',\n",
       "                                  'InternetService', 'OnlineSecurity',\n",
       "                                  'OnlineBackup', 'DeviceProtection',\n",
       "                                  'TechSupport', 'StreamingTV',\n",
       "                                  'StreamingMovies', 'Contract',\n",
       "                                  'PaymentMethod'])])"
      ]
     },
     "execution_count": 34,
     "metadata": {},
     "output_type": "execute_result"
    }
   ],
   "source": [
    "best_model = gd.best_estimator_\n",
    "\n",
    "importance = best_model.named_steps['classifier'].feature_importances_\n",
    "\n",
    "preprocessor = best_model.named_steps['preprocessor']\n",
    "preprocessor"
   ]
  },
  {
   "cell_type": "code",
   "execution_count": 36,
   "id": "81f05e69",
   "metadata": {},
   "outputs": [],
   "source": [
    "numeric_feature = preprocessor.transformers_[0][2]   \n",
    "imputed_feature = preprocessor.transformers_[1][2]  \n",
    "\n",
    "binary_encoded = preprocessor.named_transformers_['onehot_binary'].named_steps['cat_bin']\n",
    "binary_feature = binary_encoded.get_feature_names_out(\n",
    "    preprocessor.transformers_[2][2]   \n",
    ")\n",
    "\n",
    "onehot_encoded = preprocessor.named_transformers_['onehot'].named_steps['cat_col']\n",
    "onehot_feature = onehot_encoded.get_feature_names_out(\n",
    "    preprocessor.transformers_[3][2]   \n",
    ")\n",
    "\n",
    "all_features = (\n",
    "    list(numeric_feature) +\n",
    "    list(imputed_feature) +\n",
    "    list(binary_feature) +\n",
    "    list(onehot_feature)\n",
    ")"
   ]
  },
  {
   "cell_type": "code",
   "execution_count": 37,
   "id": "e7768c67",
   "metadata": {},
   "outputs": [],
   "source": [
    "feature_importance_df = pd.DataFrame({\n",
    "    \"Feature\": all_features,\n",
    "    \"Importance\": importance\n",
    "}).sort_values(by=\"Importance\", ascending=False)"
   ]
  },
  {
   "cell_type": "code",
   "execution_count": 38,
   "id": "e9ada63d",
   "metadata": {},
   "outputs": [],
   "source": [
    "df_top5 = feature_importance_df.head(10)"
   ]
  },
  {
   "cell_type": "code",
   "execution_count": 39,
   "id": "911d1357",
   "metadata": {},
   "outputs": [
    {
     "data": {
      "text/plain": [
       "<AxesSubplot:xlabel='Importance', ylabel='Feature'>"
      ]
     },
     "execution_count": 39,
     "metadata": {},
     "output_type": "execute_result"
    },
    {
     "data": {
      "image/png": "[encoded data removed]",
      "text/plain": [
       "<Figure size 432x288 with 1 Axes>"
      ]
     },
     "metadata": {
      "needs_background": "light"
     },
     "output_type": "display_data"
    }
   ],
   "source": [
    "sns.barplot(data=df_top5,x='Importance',y='Feature',orient='h')"
   ]
  },
  {
   "cell_type": "markdown",
   "id": "4af62e6a",
   "metadata": {},
   "source": [
    "# Analysis for the Above Graph\n",
    "#### From the above horizontal graph it can be infered that gender_Male is important predictor.That is customer who are male are more likely to churn.\n",
    "#### Then followed by the paperlessBiling_Yes.Some how customers are dissatiffied with online payement so they are more likely to churn."
   ]
  },
  {
   "cell_type": "code",
   "execution_count": 40,
   "id": "8b287c21",
   "metadata": {},
   "outputs": [
    {
     "data": {
      "text/html": [
       "<div>\n",
       "<style scoped>\n",
       "    .dataframe tbody tr th:only-of-type {\n",
       "        vertical-align: middle;\n",
       "    }\n",
       "\n",
       "    .dataframe tbody tr th {\n",
       "        vertical-align: top;\n",
       "    }\n",
       "\n",
       "    .dataframe thead th {\n",
       "        text-align: right;\n",
       "    }\n",
       "</style>\n",
       "<table border=\"1\" class=\"dataframe\">\n",
       "  <thead>\n",
       "    <tr style=\"text-align: right;\">\n",
       "      <th></th>\n",
       "      <th>Feature</th>\n",
       "      <th>Importance</th>\n",
       "    </tr>\n",
       "  </thead>\n",
       "  <tbody>\n",
       "    <tr>\n",
       "      <th>4</th>\n",
       "      <td>gender_Male</td>\n",
       "      <td>0.115185</td>\n",
       "    </tr>\n",
       "    <tr>\n",
       "      <th>8</th>\n",
       "      <td>PaperlessBilling_Yes</td>\n",
       "      <td>0.084624</td>\n",
       "    </tr>\n",
       "    <tr>\n",
       "      <th>5</th>\n",
       "      <td>Partner_Yes</td>\n",
       "      <td>0.076488</td>\n",
       "    </tr>\n",
       "    <tr>\n",
       "      <th>3</th>\n",
       "      <td>TotalCharges</td>\n",
       "      <td>0.070980</td>\n",
       "    </tr>\n",
       "    <tr>\n",
       "      <th>6</th>\n",
       "      <td>Dependents_Yes</td>\n",
       "      <td>0.067475</td>\n",
       "    </tr>\n",
       "    <tr>\n",
       "      <th>14</th>\n",
       "      <td>InternetService_DSL</td>\n",
       "      <td>0.060925</td>\n",
       "    </tr>\n",
       "    <tr>\n",
       "      <th>0</th>\n",
       "      <td>MonthlyCharges</td>\n",
       "      <td>0.059067</td>\n",
       "    </tr>\n",
       "    <tr>\n",
       "      <th>1</th>\n",
       "      <td>ServiceCount</td>\n",
       "      <td>0.048457</td>\n",
       "    </tr>\n",
       "    <tr>\n",
       "      <th>15</th>\n",
       "      <td>InternetService_Fiber optic</td>\n",
       "      <td>0.043363</td>\n",
       "    </tr>\n",
       "    <tr>\n",
       "      <th>2</th>\n",
       "      <td>tenure</td>\n",
       "      <td>0.033845</td>\n",
       "    </tr>\n",
       "  </tbody>\n",
       "</table>\n",
       "</div>"
      ],
      "text/plain": [
       "                        Feature  Importance\n",
       "4                   gender_Male    0.115185\n",
       "8          PaperlessBilling_Yes    0.084624\n",
       "5                   Partner_Yes    0.076488\n",
       "3                  TotalCharges    0.070980\n",
       "6                Dependents_Yes    0.067475\n",
       "14          InternetService_DSL    0.060925\n",
       "0                MonthlyCharges    0.059067\n",
       "1                  ServiceCount    0.048457\n",
       "15  InternetService_Fiber optic    0.043363\n",
       "2                        tenure    0.033845"
      ]
     },
     "execution_count": 40,
     "metadata": {},
     "output_type": "execute_result"
    }
   ],
   "source": [
    "df_top5"
   ]
  },
  {
   "cell_type": "code",
   "execution_count": null,
   "id": "28ca7b37",
   "metadata": {},
   "outputs": [],
   "source": []
  }
 ],
 "metadata": {
  "kernelspec": {
   "display_name": "Python 3 (ipykernel)",
   "language": "python",
   "name": "python3"
  },
  "language_info": {
   "codemirror_mode": {
    "name": "ipython",
    "version": 3
   },
   "file_extension": ".py",
   "mimetype": "text/x-python",
   "name": "python",
   "nbconvert_exporter": "python",
   "pygments_lexer": "ipython3",
   "version": "3.9.12"
  }
 },
 "nbformat": 4,
 "nbformat_minor": 5
}
